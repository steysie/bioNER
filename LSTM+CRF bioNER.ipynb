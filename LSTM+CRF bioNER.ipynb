{
 "cells": [
  {
   "cell_type": "markdown",
   "metadata": {
    "colab_type": "text",
    "id": "Mfa-yhbr9HRL"
   },
   "source": [
    "# bioNER Baseline"
   ]
  },
  {
   "cell_type": "code",
   "execution_count": 3,
   "metadata": {},
   "outputs": [
    {
     "name": "stdout",
     "output_type": "stream",
     "text": [
      "Requirement already satisfied: pandas in /opt/conda/lib/python3.6/site-packages (0.25.3)\n",
      "Requirement already satisfied: numpy>=1.13.3 in /opt/conda/lib/python3.6/site-packages (from pandas) (1.17.2)\n",
      "Requirement already satisfied: pytz>=2017.2 in /opt/conda/lib/python3.6/site-packages (from pandas) (2019.3)\n",
      "Requirement already satisfied: python-dateutil>=2.6.1 in /opt/conda/lib/python3.6/site-packages (from pandas) (2.8.0)\n",
      "Requirement already satisfied: six>=1.5 in /opt/conda/lib/python3.6/site-packages (from python-dateutil>=2.6.1->pandas) (1.12.0)\n",
      "Requirement already satisfied: matplotlib in /opt/conda/lib/python3.6/site-packages (3.1.2)\n",
      "Requirement already satisfied: python-dateutil>=2.1 in /opt/conda/lib/python3.6/site-packages (from matplotlib) (2.8.0)\n",
      "Requirement already satisfied: pyparsing!=2.0.4,!=2.1.2,!=2.1.6,>=2.0.1 in /opt/conda/lib/python3.6/site-packages (from matplotlib) (2.4.5)\n",
      "Requirement already satisfied: kiwisolver>=1.0.1 in /opt/conda/lib/python3.6/site-packages (from matplotlib) (1.1.0)\n",
      "Requirement already satisfied: numpy>=1.11 in /opt/conda/lib/python3.6/site-packages (from matplotlib) (1.17.2)\n",
      "Requirement already satisfied: cycler>=0.10 in /opt/conda/lib/python3.6/site-packages (from matplotlib) (0.10.0)\n",
      "Requirement already satisfied: six>=1.5 in /opt/conda/lib/python3.6/site-packages (from python-dateutil>=2.1->matplotlib) (1.12.0)\n",
      "Requirement already satisfied: setuptools in /opt/conda/lib/python3.6/site-packages (from kiwisolver>=1.0.1->matplotlib) (41.4.0)\n",
      "Requirement already satisfied: sklearn in /opt/conda/lib/python3.6/site-packages (0.0)\n",
      "Requirement already satisfied: scikit-learn in /opt/conda/lib/python3.6/site-packages (from sklearn) (0.22)\n",
      "Requirement already satisfied: scipy>=0.17.0 in /opt/conda/lib/python3.6/site-packages (from scikit-learn->sklearn) (1.4.1)\n",
      "Requirement already satisfied: numpy>=1.11.0 in /opt/conda/lib/python3.6/site-packages (from scikit-learn->sklearn) (1.17.2)\n",
      "Requirement already satisfied: joblib>=0.11 in /opt/conda/lib/python3.6/site-packages (from scikit-learn->sklearn) (0.14.1)\n",
      "Requirement already satisfied: seaborn in /opt/conda/lib/python3.6/site-packages (0.9.0)\n",
      "Requirement already satisfied: scipy>=0.14.0 in /opt/conda/lib/python3.6/site-packages (from seaborn) (1.4.1)\n",
      "Requirement already satisfied: matplotlib>=1.4.3 in /opt/conda/lib/python3.6/site-packages (from seaborn) (3.1.2)\n",
      "Requirement already satisfied: pandas>=0.15.2 in /opt/conda/lib/python3.6/site-packages (from seaborn) (0.25.3)\n",
      "Requirement already satisfied: numpy>=1.9.3 in /opt/conda/lib/python3.6/site-packages (from seaborn) (1.17.2)\n",
      "Requirement already satisfied: cycler>=0.10 in /opt/conda/lib/python3.6/site-packages (from matplotlib>=1.4.3->seaborn) (0.10.0)\n",
      "Requirement already satisfied: kiwisolver>=1.0.1 in /opt/conda/lib/python3.6/site-packages (from matplotlib>=1.4.3->seaborn) (1.1.0)\n",
      "Requirement already satisfied: python-dateutil>=2.1 in /opt/conda/lib/python3.6/site-packages (from matplotlib>=1.4.3->seaborn) (2.8.0)\n",
      "Requirement already satisfied: pyparsing!=2.0.4,!=2.1.2,!=2.1.6,>=2.0.1 in /opt/conda/lib/python3.6/site-packages (from matplotlib>=1.4.3->seaborn) (2.4.5)\n",
      "Requirement already satisfied: pytz>=2017.2 in /opt/conda/lib/python3.6/site-packages (from pandas>=0.15.2->seaborn) (2019.3)\n",
      "Requirement already satisfied: six in /opt/conda/lib/python3.6/site-packages (from cycler>=0.10->matplotlib>=1.4.3->seaborn) (1.12.0)\n",
      "Requirement already satisfied: setuptools in /opt/conda/lib/python3.6/site-packages (from kiwisolver>=1.0.1->matplotlib>=1.4.3->seaborn) (41.4.0)\n"
     ]
    }
   ],
   "source": [
    "!pip install pandas\n",
    "!pip install matplotlib\n",
    "!pip install sklearn\n",
    "!pip install seaborn"
   ]
  },
  {
   "cell_type": "code",
   "execution_count": 4,
   "metadata": {
    "colab": {},
    "colab_type": "code",
    "id": "RnxGXxyg84VH"
   },
   "outputs": [],
   "source": [
    "import json\n",
    "import random\n",
    "from tqdm import tqdm\n",
    "import numpy as np\n",
    "import pandas as pd\n",
    "import itertools\n",
    "\n",
    "from matplotlib import pyplot as plt\n",
    "from sklearn.decomposition import TruncatedSVD\n",
    "from sklearn.manifold import TSNE\n",
    "\n",
    "import torch\n",
    "from torch.utils.data import Dataset, DataLoader\n",
    "\n",
    "from pylab import rcParams\n",
    "rcParams['figure.figsize'] = 15, 15"
   ]
  },
  {
   "cell_type": "markdown",
   "metadata": {
    "colab_type": "text",
    "id": "AJKnlRnV9DcZ"
   },
   "source": [
    "## Loading Data from Kaggle"
   ]
  },
  {
   "cell_type": "code",
   "execution_count": 5,
   "metadata": {
    "colab": {},
    "colab_type": "code",
    "id": "b1xaiXpP9BLO"
   },
   "outputs": [],
   "source": [
    "import os\n",
    "# os.environ['KAGGLE_USERNAME'] = \"steysie\" # username from the json file \n",
    "# os.environ['KAGGLE_KEY'] = \"6469ce63000a8caf2a50989e9bb90b19\" # key from the json file"
   ]
  },
  {
   "cell_type": "code",
   "execution_count": 6,
   "metadata": {
    "colab": {
     "base_uri": "https://localhost:8080/",
     "height": 68
    },
    "colab_type": "code",
    "executionInfo": {
     "elapsed": 7312,
     "status": "ok",
     "timestamp": 1576741127946,
     "user": {
      "displayName": "Anastasia Nikiforova",
      "photoUrl": "https://lh3.googleusercontent.com/a-/AAuE7mCcIdJ2RdLMQqCjcu-jpe_GhcyKTWoKEYQZDLNibA=s64",
      "userId": "02648225287127746318"
     },
     "user_tz": -180
    },
    "id": "mf-G5Lei9OU2",
    "outputId": "b60fcfcc-6200-4594-b82c-415b03852edc"
   },
   "outputs": [],
   "source": [
    "#!kaggle datasets download -d rsnayak/hackathon-disease-extraction-saving-lives-with-ai"
   ]
  },
  {
   "cell_type": "code",
   "execution_count": 7,
   "metadata": {
    "colab": {
     "base_uri": "https://localhost:8080/",
     "height": 153
    },
    "colab_type": "code",
    "executionInfo": {
     "elapsed": 12730,
     "status": "ok",
     "timestamp": 1576741134298,
     "user": {
      "displayName": "Anastasia Nikiforova",
      "photoUrl": "https://lh3.googleusercontent.com/a-/AAuE7mCcIdJ2RdLMQqCjcu-jpe_GhcyKTWoKEYQZDLNibA=s64",
      "userId": "02648225287127746318"
     },
     "user_tz": -180
    },
    "id": "GDVuIP4C9Qce",
    "outputId": "98fb6856-7e44-46a0-927a-364a76b688bd"
   },
   "outputs": [],
   "source": [
    "#!unzip hackathon-disease-extraction-saving-lives-with-ai.zip"
   ]
  },
  {
   "cell_type": "code",
   "execution_count": 8,
   "metadata": {
    "colab": {},
    "colab_type": "code",
    "id": "fLEyJRdS9S-v"
   },
   "outputs": [],
   "source": [
    "train = pd.read_csv(\"train.csv\")\n",
    "test = pd.read_csv(\"test.csv\")"
   ]
  },
  {
   "cell_type": "markdown",
   "metadata": {
    "colab_type": "text",
    "id": "n_8iS-5u9cAP"
   },
   "source": [
    "Data Preprocessing"
   ]
  },
  {
   "cell_type": "code",
   "execution_count": 9,
   "metadata": {
    "colab": {
     "base_uri": "https://localhost:8080/",
     "height": 119
    },
    "colab_type": "code",
    "executionInfo": {
     "elapsed": 11811,
     "status": "ok",
     "timestamp": 1576741138684,
     "user": {
      "displayName": "Anastasia Nikiforova",
      "photoUrl": "https://lh3.googleusercontent.com/a-/AAuE7mCcIdJ2RdLMQqCjcu-jpe_GhcyKTWoKEYQZDLNibA=s64",
      "userId": "02648225287127746318"
     },
     "user_tz": -180
    },
    "id": "SshhPbbD9W4c",
    "outputId": "baef2a6d-6f32-488f-c8ed-a26bf77dc072"
   },
   "outputs": [
    {
     "data": {
      "text/plain": [
       "id           0\n",
       "Doc_ID       0\n",
       "Sent_ID      0\n",
       "Word       130\n",
       "tag          0\n",
       "dtype: int64"
      ]
     },
     "execution_count": 9,
     "metadata": {},
     "output_type": "execute_result"
    }
   ],
   "source": [
    "train.isnull().sum()"
   ]
  },
  {
   "cell_type": "code",
   "execution_count": 10,
   "metadata": {
    "colab": {},
    "colab_type": "code",
    "id": "1v-Ji4Cr9aHP"
   },
   "outputs": [],
   "source": [
    "train = train.dropna(subset=['Word'])"
   ]
  },
  {
   "cell_type": "code",
   "execution_count": 11,
   "metadata": {
    "colab": {
     "base_uri": "https://localhost:8080/",
     "height": 119
    },
    "colab_type": "code",
    "executionInfo": {
     "elapsed": 11109,
     "status": "ok",
     "timestamp": 1576741139222,
     "user": {
      "displayName": "Anastasia Nikiforova",
      "photoUrl": "https://lh3.googleusercontent.com/a-/AAuE7mCcIdJ2RdLMQqCjcu-jpe_GhcyKTWoKEYQZDLNibA=s64",
      "userId": "02648225287127746318"
     },
     "user_tz": -180
    },
    "id": "7u6HsHq09a-D",
    "outputId": "391584fd-b386-4116-bb11-e28b81455009"
   },
   "outputs": [
    {
     "data": {
      "text/plain": [
       "id         0\n",
       "Doc_ID     0\n",
       "Sent_ID    0\n",
       "Word       0\n",
       "tag        0\n",
       "dtype: int64"
      ]
     },
     "execution_count": 11,
     "metadata": {},
     "output_type": "execute_result"
    }
   ],
   "source": [
    "train.isnull().sum()"
   ]
  },
  {
   "cell_type": "code",
   "execution_count": 12,
   "metadata": {
    "colab": {
     "base_uri": "https://localhost:8080/",
     "height": 34
    },
    "colab_type": "code",
    "executionInfo": {
     "elapsed": 10238,
     "status": "ok",
     "timestamp": 1576741139223,
     "user": {
      "displayName": "Anastasia Nikiforova",
      "photoUrl": "https://lh3.googleusercontent.com/a-/AAuE7mCcIdJ2RdLMQqCjcu-jpe_GhcyKTWoKEYQZDLNibA=s64",
      "userId": "02648225287127746318"
     },
     "user_tz": -180
    },
    "id": "LcwRiGCvyqUI",
    "outputId": "02f2566e-7bb5-4849-e995-bab4f85b566a"
   },
   "outputs": [
    {
     "data": {
      "text/plain": [
       "4543703"
      ]
     },
     "execution_count": 12,
     "metadata": {},
     "output_type": "execute_result"
    }
   ],
   "source": [
    "len(train['Word'])"
   ]
  },
  {
   "cell_type": "code",
   "execution_count": 13,
   "metadata": {
    "colab": {},
    "colab_type": "code",
    "id": "yFuHbFnmyzt0"
   },
   "outputs": [],
   "source": [
    "indexNames = train[train['Word'] == ' '].index\n",
    " \n",
    "# Delete these row indexes from dataFrame\n",
    "train.drop(indexNames, inplace=True)"
   ]
  },
  {
   "cell_type": "code",
   "execution_count": 14,
   "metadata": {
    "colab": {
     "base_uri": "https://localhost:8080/",
     "height": 34
    },
    "colab_type": "code",
    "executionInfo": {
     "elapsed": 9705,
     "status": "ok",
     "timestamp": 1576741140655,
     "user": {
      "displayName": "Anastasia Nikiforova",
      "photoUrl": "https://lh3.googleusercontent.com/a-/AAuE7mCcIdJ2RdLMQqCjcu-jpe_GhcyKTWoKEYQZDLNibA=s64",
      "userId": "02648225287127746318"
     },
     "user_tz": -180
    },
    "id": "8GppYPcdy1Y_",
    "outputId": "f3a1b79c-3501-4fd7-eec2-05b6d02c7cf4"
   },
   "outputs": [
    {
     "data": {
      "text/plain": [
       "4543703"
      ]
     },
     "execution_count": 14,
     "metadata": {},
     "output_type": "execute_result"
    }
   ],
   "source": [
    "len(train['Word'])"
   ]
  },
  {
   "cell_type": "code",
   "execution_count": 15,
   "metadata": {
    "colab": {
     "base_uri": "https://localhost:8080/",
     "height": 142
    },
    "colab_type": "code",
    "executionInfo": {
     "elapsed": 9900,
     "status": "ok",
     "timestamp": 1576741141602,
     "user": {
      "displayName": "Anastasia Nikiforova",
      "photoUrl": "https://lh3.googleusercontent.com/a-/AAuE7mCcIdJ2RdLMQqCjcu-jpe_GhcyKTWoKEYQZDLNibA=s64",
      "userId": "02648225287127746318"
     },
     "user_tz": -180
    },
    "id": "bQLIeaSp9qnr",
    "outputId": "a7d4ab71-2b7f-4dc6-9d4a-38c55a9cc31a"
   },
   "outputs": [
    {
     "data": {
      "text/html": [
       "<div>\n",
       "<style scoped>\n",
       "    .dataframe tbody tr th:only-of-type {\n",
       "        vertical-align: middle;\n",
       "    }\n",
       "\n",
       "    .dataframe tbody tr th {\n",
       "        vertical-align: top;\n",
       "    }\n",
       "\n",
       "    .dataframe thead th {\n",
       "        text-align: right;\n",
       "    }\n",
       "</style>\n",
       "<table border=\"1\" class=\"dataframe\">\n",
       "  <thead>\n",
       "    <tr style=\"text-align: right;\">\n",
       "      <th></th>\n",
       "      <th>id</th>\n",
       "      <th>Doc_ID</th>\n",
       "      <th>Sent_ID</th>\n",
       "      <th>Word</th>\n",
       "      <th>tag</th>\n",
       "    </tr>\n",
       "  </thead>\n",
       "  <tbody>\n",
       "    <tr>\n",
       "      <th>0</th>\n",
       "      <td>1</td>\n",
       "      <td>1</td>\n",
       "      <td>1</td>\n",
       "      <td>obesity</td>\n",
       "      <td>O</td>\n",
       "    </tr>\n",
       "    <tr>\n",
       "      <th>1</th>\n",
       "      <td>2</td>\n",
       "      <td>1</td>\n",
       "      <td>1</td>\n",
       "      <td>in</td>\n",
       "      <td>O</td>\n",
       "    </tr>\n",
       "    <tr>\n",
       "      <th>2</th>\n",
       "      <td>3</td>\n",
       "      <td>1</td>\n",
       "      <td>1</td>\n",
       "      <td>low-</td>\n",
       "      <td>O</td>\n",
       "    </tr>\n",
       "  </tbody>\n",
       "</table>\n",
       "</div>"
      ],
      "text/plain": [
       "   id  Doc_ID  Sent_ID     Word tag\n",
       "0   1       1        1  obesity   O\n",
       "1   2       1        1       in   O\n",
       "2   3       1        1     low-   O"
      ]
     },
     "execution_count": 15,
     "metadata": {},
     "output_type": "execute_result"
    }
   ],
   "source": [
    "# lowercasing\n",
    "train.Word = train.Word.str.lower()\n",
    "train.head(3)"
   ]
  },
  {
   "cell_type": "code",
   "execution_count": 16,
   "metadata": {
    "colab": {
     "base_uri": "https://localhost:8080/",
     "height": 142
    },
    "colab_type": "code",
    "executionInfo": {
     "elapsed": 9635,
     "status": "ok",
     "timestamp": 1576741142281,
     "user": {
      "displayName": "Anastasia Nikiforova",
      "photoUrl": "https://lh3.googleusercontent.com/a-/AAuE7mCcIdJ2RdLMQqCjcu-jpe_GhcyKTWoKEYQZDLNibA=s64",
      "userId": "02648225287127746318"
     },
     "user_tz": -180
    },
    "id": "w5-jGFUN9h6n",
    "outputId": "cf3f8a02-468d-456c-c7fe-35df51e70b88"
   },
   "outputs": [
    {
     "data": {
      "text/html": [
       "<div>\n",
       "<style scoped>\n",
       "    .dataframe tbody tr th:only-of-type {\n",
       "        vertical-align: middle;\n",
       "    }\n",
       "\n",
       "    .dataframe tbody tr th {\n",
       "        vertical-align: top;\n",
       "    }\n",
       "\n",
       "    .dataframe thead th {\n",
       "        text-align: right;\n",
       "    }\n",
       "</style>\n",
       "<table border=\"1\" class=\"dataframe\">\n",
       "  <thead>\n",
       "    <tr style=\"text-align: right;\">\n",
       "      <th></th>\n",
       "      <th>tag</th>\n",
       "      <th>counts</th>\n",
       "    </tr>\n",
       "  </thead>\n",
       "  <tbody>\n",
       "    <tr>\n",
       "      <th>0</th>\n",
       "      <td>B-indications</td>\n",
       "      <td>53003</td>\n",
       "    </tr>\n",
       "    <tr>\n",
       "      <th>1</th>\n",
       "      <td>I-indications</td>\n",
       "      <td>44624</td>\n",
       "    </tr>\n",
       "    <tr>\n",
       "      <th>2</th>\n",
       "      <td>O</td>\n",
       "      <td>4446076</td>\n",
       "    </tr>\n",
       "  </tbody>\n",
       "</table>\n",
       "</div>"
      ],
      "text/plain": [
       "             tag   counts\n",
       "0  B-indications    53003\n",
       "1  I-indications    44624\n",
       "2              O  4446076"
      ]
     },
     "execution_count": 16,
     "metadata": {},
     "output_type": "execute_result"
    }
   ],
   "source": [
    "train.groupby('tag').size().reset_index(name='counts')"
   ]
  },
  {
   "cell_type": "markdown",
   "metadata": {
    "colab_type": "text",
    "id": "zicZpsW3fRNu"
   },
   "source": [
    "## Подготовка данных"
   ]
  },
  {
   "cell_type": "markdown",
   "metadata": {
    "colab_type": "text",
    "id": "cGhpk4iafc8b"
   },
   "source": [
    "Замапим категории в индексы"
   ]
  },
  {
   "cell_type": "code",
   "execution_count": 17,
   "metadata": {
    "colab": {},
    "colab_type": "code",
    "id": "hWVq6iBAd2VM"
   },
   "outputs": [],
   "source": [
    "cat_mapper = {tag: n for n, tag in enumerate(train.tag.unique())}"
   ]
  },
  {
   "cell_type": "code",
   "execution_count": 18,
   "metadata": {
    "colab": {
     "base_uri": "https://localhost:8080/",
     "height": 34
    },
    "colab_type": "code",
    "executionInfo": {
     "elapsed": 4753,
     "status": "ok",
     "timestamp": 1576741142282,
     "user": {
      "displayName": "Anastasia Nikiforova",
      "photoUrl": "https://lh3.googleusercontent.com/a-/AAuE7mCcIdJ2RdLMQqCjcu-jpe_GhcyKTWoKEYQZDLNibA=s64",
      "userId": "02648225287127746318"
     },
     "user_tz": -180
    },
    "id": "DddCZ8yUfqV5",
    "outputId": "1b0aedaf-abd0-4ca3-a329-d41706bbae48"
   },
   "outputs": [
    {
     "data": {
      "text/plain": [
       "{'O': 0, 'B-indications': 1, 'I-indications': 2}"
      ]
     },
     "execution_count": 18,
     "metadata": {},
     "output_type": "execute_result"
    }
   ],
   "source": [
    "cat_mapper"
   ]
  },
  {
   "cell_type": "code",
   "execution_count": 19,
   "metadata": {
    "colab": {},
    "colab_type": "code",
    "id": "EqKyYdsnftiV"
   },
   "outputs": [],
   "source": [
    "train.tag = train.tag.map(cat_mapper)"
   ]
  },
  {
   "cell_type": "code",
   "execution_count": 20,
   "metadata": {
    "colab": {},
    "colab_type": "code",
    "id": "UyUol54DPe6g"
   },
   "outputs": [],
   "source": [
    "# group sentences by id\n",
    "grouped = train.groupby('Sent_ID').agg(lambda x: x.tolist())"
   ]
  },
  {
   "cell_type": "code",
   "execution_count": 21,
   "metadata": {
    "colab": {
     "base_uri": "https://localhost:8080/",
     "height": 235
    },
    "colab_type": "code",
    "executionInfo": {
     "elapsed": 68226,
     "status": "ok",
     "timestamp": 1576741208178,
     "user": {
      "displayName": "Anastasia Nikiforova",
      "photoUrl": "https://lh3.googleusercontent.com/a-/AAuE7mCcIdJ2RdLMQqCjcu-jpe_GhcyKTWoKEYQZDLNibA=s64",
      "userId": "02648225287127746318"
     },
     "user_tz": -180
    },
    "id": "Tn2u9C2qRI3v",
    "outputId": "5503715b-9496-482a-81b0-dd2e7520bfb6"
   },
   "outputs": [
    {
     "data": {
      "text/html": [
       "<div>\n",
       "<style scoped>\n",
       "    .dataframe tbody tr th:only-of-type {\n",
       "        vertical-align: middle;\n",
       "    }\n",
       "\n",
       "    .dataframe tbody tr th {\n",
       "        vertical-align: top;\n",
       "    }\n",
       "\n",
       "    .dataframe thead th {\n",
       "        text-align: right;\n",
       "    }\n",
       "</style>\n",
       "<table border=\"1\" class=\"dataframe\">\n",
       "  <thead>\n",
       "    <tr style=\"text-align: right;\">\n",
       "      <th></th>\n",
       "      <th>id</th>\n",
       "      <th>Doc_ID</th>\n",
       "      <th>Word</th>\n",
       "      <th>tag</th>\n",
       "    </tr>\n",
       "    <tr>\n",
       "      <th>Sent_ID</th>\n",
       "      <th></th>\n",
       "      <th></th>\n",
       "      <th></th>\n",
       "      <th></th>\n",
       "    </tr>\n",
       "  </thead>\n",
       "  <tbody>\n",
       "    <tr>\n",
       "      <th>1</th>\n",
       "      <td>[1, 2, 3, 4, 5, 6, 7, 8, 9, 10, 11, 12, 13, 14...</td>\n",
       "      <td>[1, 1, 1, 1, 1, 1, 1, 1, 1, 1, 1, 1, 1, 1, 1]</td>\n",
       "      <td>[obesity, in, low-, and, middle-income, countr...</td>\n",
       "      <td>[0, 0, 0, 0, 0, 0, 0, 0, 0, 0, 0, 0, 0, 0, 0]</td>\n",
       "    </tr>\n",
       "    <tr>\n",
       "      <th>2</th>\n",
       "      <td>[16, 17, 18, 19, 20, 21, 22, 23, 24, 25, 26, 2...</td>\n",
       "      <td>[1, 1, 1, 1, 1, 1, 1, 1, 1, 1, 1, 1, 1, 1, 1, ...</td>\n",
       "      <td>[we, have, reviewed, the, distinctive, feature...</td>\n",
       "      <td>[0, 0, 0, 0, 0, 0, 0, 0, 0, 0, 0, 0, 0, 0, 0, ...</td>\n",
       "    </tr>\n",
       "    <tr>\n",
       "      <th>3</th>\n",
       "      <td>[55, 56, 57, 58, 59, 60, 61, 62, 63, 64, 65, 6...</td>\n",
       "      <td>[1, 1, 1, 1, 1, 1, 1, 1, 1, 1, 1, 1, 1, 1, 1, ...</td>\n",
       "      <td>[obesity, is, rising, in, every, region, of, t...</td>\n",
       "      <td>[0, 0, 0, 0, 0, 0, 0, 0, 0, 0, 0, 0, 0, 0, 0, ...</td>\n",
       "    </tr>\n",
       "    <tr>\n",
       "      <th>4</th>\n",
       "      <td>[80, 81, 82, 83, 84, 85, 86, 87, 88, 89, 90, 9...</td>\n",
       "      <td>[1, 1, 1, 1, 1, 1, 1, 1, 1, 1, 1, 1, 1, 1, 1, ...</td>\n",
       "      <td>[in, lmics, ,, overweight, is, higher, in, wom...</td>\n",
       "      <td>[0, 0, 0, 0, 0, 0, 0, 0, 0, 0, 0, 0, 0, 0, 0, ...</td>\n",
       "    </tr>\n",
       "    <tr>\n",
       "      <th>5</th>\n",
       "      <td>[119, 120, 121, 122, 123, 124, 125, 126, 127, ...</td>\n",
       "      <td>[1, 1, 1, 1, 1, 1, 1, 1, 1, 1, 1, 1, 1, 1, 1]</td>\n",
       "      <td>[overweight, occurs, alongside, persistent, bu...</td>\n",
       "      <td>[0, 0, 0, 0, 0, 0, 0, 0, 0, 0, 0, 0, 0, 0, 0]</td>\n",
       "    </tr>\n",
       "  </tbody>\n",
       "</table>\n",
       "</div>"
      ],
      "text/plain": [
       "                                                        id  \\\n",
       "Sent_ID                                                      \n",
       "1        [1, 2, 3, 4, 5, 6, 7, 8, 9, 10, 11, 12, 13, 14...   \n",
       "2        [16, 17, 18, 19, 20, 21, 22, 23, 24, 25, 26, 2...   \n",
       "3        [55, 56, 57, 58, 59, 60, 61, 62, 63, 64, 65, 6...   \n",
       "4        [80, 81, 82, 83, 84, 85, 86, 87, 88, 89, 90, 9...   \n",
       "5        [119, 120, 121, 122, 123, 124, 125, 126, 127, ...   \n",
       "\n",
       "                                                    Doc_ID  \\\n",
       "Sent_ID                                                      \n",
       "1            [1, 1, 1, 1, 1, 1, 1, 1, 1, 1, 1, 1, 1, 1, 1]   \n",
       "2        [1, 1, 1, 1, 1, 1, 1, 1, 1, 1, 1, 1, 1, 1, 1, ...   \n",
       "3        [1, 1, 1, 1, 1, 1, 1, 1, 1, 1, 1, 1, 1, 1, 1, ...   \n",
       "4        [1, 1, 1, 1, 1, 1, 1, 1, 1, 1, 1, 1, 1, 1, 1, ...   \n",
       "5            [1, 1, 1, 1, 1, 1, 1, 1, 1, 1, 1, 1, 1, 1, 1]   \n",
       "\n",
       "                                                      Word  \\\n",
       "Sent_ID                                                      \n",
       "1        [obesity, in, low-, and, middle-income, countr...   \n",
       "2        [we, have, reviewed, the, distinctive, feature...   \n",
       "3        [obesity, is, rising, in, every, region, of, t...   \n",
       "4        [in, lmics, ,, overweight, is, higher, in, wom...   \n",
       "5        [overweight, occurs, alongside, persistent, bu...   \n",
       "\n",
       "                                                       tag  \n",
       "Sent_ID                                                     \n",
       "1            [0, 0, 0, 0, 0, 0, 0, 0, 0, 0, 0, 0, 0, 0, 0]  \n",
       "2        [0, 0, 0, 0, 0, 0, 0, 0, 0, 0, 0, 0, 0, 0, 0, ...  \n",
       "3        [0, 0, 0, 0, 0, 0, 0, 0, 0, 0, 0, 0, 0, 0, 0, ...  \n",
       "4        [0, 0, 0, 0, 0, 0, 0, 0, 0, 0, 0, 0, 0, 0, 0, ...  \n",
       "5            [0, 0, 0, 0, 0, 0, 0, 0, 0, 0, 0, 0, 0, 0, 0]  "
      ]
     },
     "execution_count": 21,
     "metadata": {},
     "output_type": "execute_result"
    }
   ],
   "source": [
    "grouped.head()"
   ]
  },
  {
   "cell_type": "code",
   "execution_count": 22,
   "metadata": {
    "colab": {},
    "colab_type": "code",
    "id": "meR4qe-OPcj9"
   },
   "outputs": [],
   "source": [
    "sents = grouped.Word.tolist()\n",
    "tags = grouped.tag.tolist()"
   ]
  },
  {
   "cell_type": "markdown",
   "metadata": {
    "colab_type": "text",
    "id": "CXXx-1MnDpCP"
   },
   "source": [
    "## Checking the correspondence & other tests"
   ]
  },
  {
   "cell_type": "code",
   "execution_count": 23,
   "metadata": {
    "colab": {
     "base_uri": "https://localhost:8080/",
     "height": 340
    },
    "colab_type": "code",
    "executionInfo": {
     "elapsed": 64128,
     "status": "ok",
     "timestamp": 1576741208180,
     "user": {
      "displayName": "Anastasia Nikiforova",
      "photoUrl": "https://lh3.googleusercontent.com/a-/AAuE7mCcIdJ2RdLMQqCjcu-jpe_GhcyKTWoKEYQZDLNibA=s64",
      "userId": "02648225287127746318"
     },
     "user_tz": -180
    },
    "id": "tAB-e_0wZHQo",
    "outputId": "5d7c033b-ac17-467a-c258-3e6d3c9d8317"
   },
   "outputs": [
    {
     "data": {
      "text/plain": [
       "(['decreased',\n",
       "  'peak',\n",
       "  'arteriovenous',\n",
       "  'oxygen',\n",
       "  'difference',\n",
       "  'during',\n",
       "  'treadmill',\n",
       "  'exercise',\n",
       "  'testing',\n",
       "  'in',\n",
       "  'individuals',\n",
       "  'infected',\n",
       "  'with',\n",
       "  'the',\n",
       "  'human',\n",
       "  'immunodeficiency',\n",
       "  'virus',\n",
       "  '.'],\n",
       " [0, 0, 0, 0, 0, 0, 0, 0, 0, 0, 0, 0, 0, 0, 1, 2, 2, 0])"
      ]
     },
     "execution_count": 23,
     "metadata": {},
     "output_type": "execute_result"
    }
   ],
   "source": [
    "sents[111], tags[111]"
   ]
  },
  {
   "cell_type": "markdown",
   "metadata": {
    "colab_type": "text",
    "id": "dfE9WaarEgFl"
   },
   "source": [
    "Супер, нужные тэги совпадают со словами, ничего никуда не сдвинулось."
   ]
  },
  {
   "cell_type": "code",
   "execution_count": 24,
   "metadata": {
    "colab": {
     "base_uri": "https://localhost:8080/",
     "height": 34
    },
    "colab_type": "code",
    "executionInfo": {
     "elapsed": 62348,
     "status": "ok",
     "timestamp": 1576741208181,
     "user": {
      "displayName": "Anastasia Nikiforova",
      "photoUrl": "https://lh3.googleusercontent.com/a-/AAuE7mCcIdJ2RdLMQqCjcu-jpe_GhcyKTWoKEYQZDLNibA=s64",
      "userId": "02648225287127746318"
     },
     "user_tz": -180
    },
    "id": "RRmpPLxXh4i3",
    "outputId": "b19e3223-fc98-4262-bba1-9e8ace7f852b"
   },
   "outputs": [
    {
     "name": "stdout",
     "output_type": "stream",
     "text": [
      "0\n"
     ]
    }
   ],
   "source": [
    "# Cheching that all lengths are consistent and that there are no sentences of length 0\n",
    "zeros = 0\n",
    "\n",
    "for i in range(len(tags)):\n",
    "    if len(tags[i]) != len(sents[i]):\n",
    "        print(f\"Error at position {i}\")\n",
    "    elif len(tags[i]) == 0:\n",
    "        zeros += 0\n",
    "\n",
    "print(zeros)"
   ]
  },
  {
   "cell_type": "code",
   "execution_count": 25,
   "metadata": {
    "colab": {
     "base_uri": "https://localhost:8080/",
     "height": 51
    },
    "colab_type": "code",
    "executionInfo": {
     "elapsed": 59075,
     "status": "ok",
     "timestamp": 1576741208184,
     "user": {
      "displayName": "Anastasia Nikiforova",
      "photoUrl": "https://lh3.googleusercontent.com/a-/AAuE7mCcIdJ2RdLMQqCjcu-jpe_GhcyKTWoKEYQZDLNibA=s64",
      "userId": "02648225287127746318"
     },
     "user_tz": -180
    },
    "id": "SMB5BaKcyAzd",
    "outputId": "43bb359d-3502-4f6a-b9e2-a4cdd2c1f273"
   },
   "outputs": [
    {
     "name": "stdout",
     "output_type": "stream",
     "text": [
      "The maximum sequence length is 3899, and the minimum sequence length is 1\n",
      "The longest sequence is #96017\n"
     ]
    }
   ],
   "source": [
    "maxlen = 25\n",
    "minlen = 3\n",
    "num = 0\n",
    "\n",
    "for n, i in enumerate(tags):\n",
    "    if len(i) > maxlen:\n",
    "        maxlen = len(i)\n",
    "        num = n\n",
    "    elif len(i) < minlen:\n",
    "        minlen = len(i)\n",
    "\n",
    "print(f\"The maximum sequence length is {maxlen}, and the minimum sequence length is {minlen}\")\n",
    "print(f\"The longest sequence is #{num}\")"
   ]
  },
  {
   "cell_type": "markdown",
   "metadata": {
    "colab_type": "text",
    "id": "QEXI0YmgnvZA"
   },
   "source": [
    "### Sentence length statistics"
   ]
  },
  {
   "cell_type": "code",
   "execution_count": 26,
   "metadata": {
    "colab": {
     "base_uri": "https://localhost:8080/",
     "height": 34
    },
    "colab_type": "code",
    "executionInfo": {
     "elapsed": 55677,
     "status": "ok",
     "timestamp": 1576741208185,
     "user": {
      "displayName": "Anastasia Nikiforova",
      "photoUrl": "https://lh3.googleusercontent.com/a-/AAuE7mCcIdJ2RdLMQqCjcu-jpe_GhcyKTWoKEYQZDLNibA=s64",
      "userId": "02648225287127746318"
     },
     "user_tz": -180
    },
    "id": "QlEZQN2xn0Zz",
    "outputId": "75a52b17-f61a-4352-9ca9-7240cd133aa1"
   },
   "outputs": [
    {
     "name": "stderr",
     "output_type": "stream",
     "text": [
      "100%|██████████| 191279/191279 [00:00<00:00, 916543.12it/s]\n"
     ]
    }
   ],
   "source": [
    "lengths = []\n",
    "\n",
    "for text in tqdm(sents):\n",
    "    lengths.append(len(text))"
   ]
  },
  {
   "cell_type": "code",
   "execution_count": 27,
   "metadata": {
    "colab": {},
    "colab_type": "code",
    "id": "8hbOYbr4odNr"
   },
   "outputs": [],
   "source": [
    "import seaborn as sns\n",
    "from matplotlib import pyplot as plt"
   ]
  },
  {
   "cell_type": "code",
   "execution_count": 28,
   "metadata": {
    "colab": {
     "base_uri": "https://localhost:8080/",
     "height": 367
    },
    "colab_type": "code",
    "executionInfo": {
     "elapsed": 54218,
     "status": "ok",
     "timestamp": 1576741208625,
     "user": {
      "displayName": "Anastasia Nikiforova",
      "photoUrl": "https://lh3.googleusercontent.com/a-/AAuE7mCcIdJ2RdLMQqCjcu-jpe_GhcyKTWoKEYQZDLNibA=s64",
      "userId": "02648225287127746318"
     },
     "user_tz": -180
    },
    "id": "XyOhfxzCofAT",
    "outputId": "53df0079-9c6b-4d59-9faf-3b78f60792bb"
   },
   "outputs": [
    {
     "data": {
      "text/plain": [
       "<matplotlib.axes._subplots.AxesSubplot at 0x7f53989d4ba8>"
      ]
     },
     "execution_count": 28,
     "metadata": {},
     "output_type": "execute_result"
    },
    {
     "data": {
      "image/png": "[encoded data removed]",
      "text/plain": [
       "<Figure size 720x360 with 1 Axes>"
      ]
     },
     "metadata": {
      "needs_background": "light"
     },
     "output_type": "display_data"
    }
   ],
   "source": [
    "plt.figure(figsize=(10, 5))\n",
    "plt.title('Распределение длин слов в текстах')\n",
    "plt.xlabel('Длина предложения')\n",
    "plt.ylabel('Доля')\n",
    "sns.distplot(lengths)"
   ]
  },
  {
   "cell_type": "markdown",
   "metadata": {
    "colab_type": "text",
    "id": "-6ZxqO2CU4xg"
   },
   "source": [
    "Очень много очень длинных \"предложений\", нужно бы их разделить"
   ]
  },
  {
   "cell_type": "code",
   "execution_count": 29,
   "metadata": {
    "colab": {},
    "colab_type": "code",
    "id": "yNtu_MSwW_Rn"
   },
   "outputs": [],
   "source": [
    "def chunkIt(seq, num):\n",
    "    avg = len(seq) / float(num)\n",
    "    out = []\n",
    "    last = 0.0\n",
    "\n",
    "    while last < len(seq):\n",
    "        out.append(seq[int(last):int(last + avg)])\n",
    "        last += avg\n",
    "\n",
    "    if len(out[-1]) == 1:\n",
    "        out[-2].extend(out[-1])\n",
    "        out.remove(out[-1])\n",
    "\n",
    "    return out"
   ]
  },
  {
   "cell_type": "code",
   "execution_count": 30,
   "metadata": {
    "colab": {},
    "colab_type": "code",
    "id": "mXvGK0PsU4B7"
   },
   "outputs": [],
   "source": [
    "class betterGroupedSents:\n",
    "\n",
    "    def __init__(self):\n",
    "        self.lengths = 0        \n",
    "        self.deletions = 0      # will record the deletions of emptified sentences\n",
    "        self.i_movement = 0     # will record how many words with I tag moved to previous sentence\n",
    "\n",
    "    def chunkGroupedSents(self, old_sents, tags_raw, maxlen=32):\n",
    "        l = len(old_sents)\n",
    "        sents = []\n",
    "\n",
    "        for i in range(l):\n",
    "            # if sentence is longer than the specified maxlen, let's chunk it into sequences of roughly specified max length (+1 in case of residuals)\n",
    "            if len(old_sents[i]) > maxlen:\n",
    "                sents.extend(chunkIt(old_sents[i], len(old_sents[i])/maxlen))\n",
    "\n",
    "            else: \n",
    "                sents.append(old_sents[i])\n",
    "\n",
    "        lengths = 0\n",
    "        deletions = 0 # will record the deletions of emptified sentences\n",
    "        i_movement = 0 # will record how many words with I tag moved to previous sentence\n",
    "\n",
    "        for i in range(len(sents)):\n",
    "            try:\n",
    "                # len(sents) will change over time so we need to check that we didn't exceed the limit\n",
    "                if i == len(sents)-2:\n",
    "                    lengths += len(sents[i])\n",
    "                    #lengths += len(sents[i+1])\n",
    "                    #print(lengths)\n",
    "                    break\n",
    "\n",
    "                if tags_raw[lengths+len(sents[i])] == 2:    # if tags_raw[lengths+len(sents[i])-1] in [1, 2] and\n",
    "                    cursor = lengths+len(sents[i])  # index of the first element of the next sequence if the count starts from the current sequence\n",
    "                    next_len = len(sents[i+1])   # length of the next sequence\n",
    "                    \n",
    "                    pairs = zip(sents[i+1], tags_raw[cursor:cursor+next_len])   # to be able to retrieve both the sentence and its tag seq by the same index\n",
    "                    \n",
    "                    # get all the starting 2's - so that later we can move them to the previous sequence  But! we should make sure only starting 2's are retrieved not all\n",
    "                    match = []\n",
    "                    for w, t in pairs:\n",
    "                        if t==2:\n",
    "                            match.append(w)\n",
    "                        else:\n",
    "                            break\n",
    "\n",
    "                    sents[i].extend(match)\n",
    "                    del sents[i+1][0:len(match)]\n",
    "                    i_movement += len(match)\n",
    "\n",
    "                # if the next sequence len == 0 or\n",
    "                if (sents[i+1]) and (len((sents[i+1])) == 0 or (len(sents[i+1]) <= 3 and (any(x in sents[i+1] for x in ['.','!','?', ';', ')'])))):\n",
    "                    sents[i].extend(sents[i+1])\n",
    "                    del sents[i+1]\n",
    "                    deletions += 1\n",
    "\n",
    "\n",
    "                lengths += len(sents[i])\n",
    "            \n",
    "            except IndexError as e:\n",
    "                print(e)\n",
    "                print(lengths)\n",
    "                print(deletions)\n",
    "                break\n",
    "        \n",
    "        self.lengths = lengths       \n",
    "        self.deletions = deletions\n",
    "        self.i_movement = i_movement\n",
    "\n",
    "        return sents"
   ]
  },
  {
   "cell_type": "code",
   "execution_count": 31,
   "metadata": {
    "colab": {},
    "colab_type": "code",
    "id": "lkmsqN--cxB0"
   },
   "outputs": [],
   "source": [
    "grFunc = betterGroupedSents()"
   ]
  },
  {
   "cell_type": "code",
   "execution_count": 32,
   "metadata": {
    "colab": {},
    "colab_type": "code",
    "id": "mWOVTdUsBaM-"
   },
   "outputs": [],
   "source": [
    "raw_sents = sents"
   ]
  },
  {
   "cell_type": "code",
   "execution_count": 33,
   "metadata": {
    "colab": {},
    "colab_type": "code",
    "id": "kf0VDIpcY_MI"
   },
   "outputs": [],
   "source": [
    "grouped_sents = grFunc.chunkGroupedSents(raw_sents, train.tag.tolist(), 32)"
   ]
  },
  {
   "cell_type": "code",
   "execution_count": 34,
   "metadata": {
    "colab": {
     "base_uri": "https://localhost:8080/",
     "height": 34
    },
    "colab_type": "code",
    "executionInfo": {
     "elapsed": 1697,
     "status": "ok",
     "timestamp": 1576741210363,
     "user": {
      "displayName": "Anastasia Nikiforova",
      "photoUrl": "https://lh3.googleusercontent.com/a-/AAuE7mCcIdJ2RdLMQqCjcu-jpe_GhcyKTWoKEYQZDLNibA=s64",
      "userId": "02648225287127746318"
     },
     "user_tz": -180
    },
    "id": "6-ay2WSKbWfb",
    "outputId": "d2273e4a-1d46-498a-bb22-0e35db9677fc"
   },
   "outputs": [
    {
     "data": {
      "text/plain": [
       "(220737, 4543703)"
      ]
     },
     "execution_count": 34,
     "metadata": {},
     "output_type": "execute_result"
    }
   ],
   "source": [
    "len(grouped_sents), len(train.tag.tolist())"
   ]
  },
  {
   "cell_type": "code",
   "execution_count": 35,
   "metadata": {
    "colab": {
     "base_uri": "https://localhost:8080/",
     "height": 51
    },
    "colab_type": "code",
    "executionInfo": {
     "elapsed": 1685,
     "status": "ok",
     "timestamp": 1576741210363,
     "user": {
      "displayName": "Anastasia Nikiforova",
      "photoUrl": "https://lh3.googleusercontent.com/a-/AAuE7mCcIdJ2RdLMQqCjcu-jpe_GhcyKTWoKEYQZDLNibA=s64",
      "userId": "02648225287127746318"
     },
     "user_tz": -180
    },
    "id": "4xWpn1E6QS7o",
    "outputId": "e5b1e523-9f17-4c56-c33c-38881ba2560a"
   },
   "outputs": [
    {
     "name": "stdout",
     "output_type": "stream",
     "text": [
      "9059 предложений были присоединены к предыдущим полностью\n",
      "409 слов с тегом I были присоединены к предыдущему предложению\n"
     ]
    }
   ],
   "source": [
    "print(f\"{grFunc.deletions} предложений были присоединены к предыдущим полностью\")\n",
    "print(f\"{grFunc.i_movement} слов с тегом I были присоединены к предыдущему предложению\")"
   ]
  },
  {
   "cell_type": "markdown",
   "metadata": {
    "colab_type": "text",
    "id": "AGvLNMOYXO9Q"
   },
   "source": [
    "### Grouping tags"
   ]
  },
  {
   "cell_type": "markdown",
   "metadata": {
    "colab_type": "text",
    "id": "Gbs7cZYgW64h"
   },
   "source": [
    "Now the tags need to be grouped according to the lengths of the sentences"
   ]
  },
  {
   "cell_type": "code",
   "execution_count": 36,
   "metadata": {
    "colab": {
     "base_uri": "https://localhost:8080/",
     "height": 34
    },
    "colab_type": "code",
    "executionInfo": {
     "elapsed": 2830,
     "status": "ok",
     "timestamp": 1576741211521,
     "user": {
      "displayName": "Anastasia Nikiforova",
      "photoUrl": "https://lh3.googleusercontent.com/a-/AAuE7mCcIdJ2RdLMQqCjcu-jpe_GhcyKTWoKEYQZDLNibA=s64",
      "userId": "02648225287127746318"
     },
     "user_tz": -180
    },
    "id": "ypHOypaIZosO",
    "outputId": "56c515c2-ccbf-4ead-9c33-52fe4cb77653"
   },
   "outputs": [
    {
     "name": "stdout",
     "output_type": "stream",
     "text": [
      "220737 220737\n"
     ]
    }
   ],
   "source": [
    "# Same on real tags\n",
    "\n",
    "tags_raw = train.tag.tolist()\n",
    "tags = []\n",
    "c = 0\n",
    "\n",
    "\n",
    "for i in range(len(grouped_sents)):\n",
    "    try:\n",
    "        tags.append(tags_raw[c:c+len(grouped_sents[i])])\n",
    "        c += len(grouped_sents[i])\n",
    "    except IndexError:\n",
    "        print(i)\n",
    "\n",
    "print(len(tags), len(grouped_sents))"
   ]
  },
  {
   "cell_type": "code",
   "execution_count": 37,
   "metadata": {
    "colab": {
     "base_uri": "https://localhost:8080/",
     "height": 34
    },
    "colab_type": "code",
    "executionInfo": {
     "elapsed": 2821,
     "status": "ok",
     "timestamp": 1576741211524,
     "user": {
      "displayName": "Anastasia Nikiforova",
      "photoUrl": "https://lh3.googleusercontent.com/a-/AAuE7mCcIdJ2RdLMQqCjcu-jpe_GhcyKTWoKEYQZDLNibA=s64",
      "userId": "02648225287127746318"
     },
     "user_tz": -180
    },
    "id": "HLv6CQG7SNdR",
    "outputId": "564bea04-7379-400a-d71d-38cd1352aa89"
   },
   "outputs": [
    {
     "name": "stdout",
     "output_type": "stream",
     "text": [
      "0\n"
     ]
    }
   ],
   "source": [
    "# Cheching that all lengths are consistent and that there are no sentences of length 0\n",
    "zeros = 0\n",
    "\n",
    "for i in range(len(tags)):\n",
    "    if len(tags[i]) != len(grouped_sents[i]):\n",
    "        print(f\"Error at position {i}\")\n",
    "    elif len(tags[i]) == 0:\n",
    "        zeros += 0\n",
    "\n",
    "print(zeros)"
   ]
  },
  {
   "cell_type": "code",
   "execution_count": 38,
   "metadata": {
    "colab": {
     "base_uri": "https://localhost:8080/",
     "height": 51
    },
    "colab_type": "code",
    "executionInfo": {
     "elapsed": 2809,
     "status": "ok",
     "timestamp": 1576741211525,
     "user": {
      "displayName": "Anastasia Nikiforova",
      "photoUrl": "https://lh3.googleusercontent.com/a-/AAuE7mCcIdJ2RdLMQqCjcu-jpe_GhcyKTWoKEYQZDLNibA=s64",
      "userId": "02648225287127746318"
     },
     "user_tz": -180
    },
    "id": "BrBCIpuISXNg",
    "outputId": "df1b1586-df68-4900-e574-0685dd47da25"
   },
   "outputs": [
    {
     "name": "stdout",
     "output_type": "stream",
     "text": [
      "The maximum sequence length is 39, and the minimum sequence length is 1\n",
      "The longest sequence is #34363\n"
     ]
    }
   ],
   "source": [
    "maxlen = 25\n",
    "minlen = 3\n",
    "num = 0\n",
    "\n",
    "for n, i in enumerate(tags):\n",
    "    if len(i) > maxlen:\n",
    "        maxlen = len(i)\n",
    "        num = n\n",
    "    elif len(i) < minlen:\n",
    "        minlen = len(i)\n",
    "\n",
    "print(f\"The maximum sequence length is {maxlen}, and the minimum sequence length is {minlen}\")\n",
    "print(f\"The longest sequence is #{num}\")"
   ]
  },
  {
   "cell_type": "code",
   "execution_count": 39,
   "metadata": {
    "colab": {
     "base_uri": "https://localhost:8080/",
     "height": 34
    },
    "colab_type": "code",
    "executionInfo": {
     "elapsed": 2799,
     "status": "ok",
     "timestamp": 1576741211527,
     "user": {
      "displayName": "Anastasia Nikiforova",
      "photoUrl": "https://lh3.googleusercontent.com/a-/AAuE7mCcIdJ2RdLMQqCjcu-jpe_GhcyKTWoKEYQZDLNibA=s64",
      "userId": "02648225287127746318"
     },
     "user_tz": -180
    },
    "id": "h4i4RvDsSj4o",
    "outputId": "83d2ffc6-44fc-4c5f-b8b9-3b3916fec86d"
   },
   "outputs": [
    {
     "name": "stderr",
     "output_type": "stream",
     "text": [
      "100%|██████████| 220737/220737 [00:00<00:00, 894443.13it/s]\n"
     ]
    }
   ],
   "source": [
    "lengths = []\n",
    "\n",
    "for text in tqdm(grouped_sents):\n",
    "    lengths.append(len(text))"
   ]
  },
  {
   "cell_type": "code",
   "execution_count": 40,
   "metadata": {
    "colab": {
     "base_uri": "https://localhost:8080/",
     "height": 367
    },
    "colab_type": "code",
    "executionInfo": {
     "elapsed": 2789,
     "status": "ok",
     "timestamp": 1576741211529,
     "user": {
      "displayName": "Anastasia Nikiforova",
      "photoUrl": "https://lh3.googleusercontent.com/a-/AAuE7mCcIdJ2RdLMQqCjcu-jpe_GhcyKTWoKEYQZDLNibA=s64",
      "userId": "02648225287127746318"
     },
     "user_tz": -180
    },
    "id": "Dd7e3ogNS0qw",
    "outputId": "899e3a63-ed96-4502-cf26-a26752104e7c"
   },
   "outputs": [
    {
     "data": {
      "text/plain": [
       "<matplotlib.axes._subplots.AxesSubplot at 0x7f5355ea7b38>"
      ]
     },
     "execution_count": 40,
     "metadata": {},
     "output_type": "execute_result"
    },
    {
     "data": {
      "image/png": "[encoded data removed]",
      "text/plain": [
       "<Figure size 720x360 with 1 Axes>"
      ]
     },
     "metadata": {
      "needs_background": "light"
     },
     "output_type": "display_data"
    }
   ],
   "source": [
    "plt.figure(figsize=(10, 5))\n",
    "plt.title('Распределение длин слов в текстах')\n",
    "plt.xlabel('Длина предложения')\n",
    "plt.ylabel('Доля')\n",
    "sns.distplot(lengths)"
   ]
  },
  {
   "cell_type": "markdown",
   "metadata": {
    "colab_type": "text",
    "id": "Pe1QdM0TS4lu"
   },
   "source": [
    "Теперь стало гораздо более равномерно, не считая того, что большинство предложений получились той длины, которую мы указали как относительно максимальную (32 слова)"
   ]
  },
  {
   "cell_type": "code",
   "execution_count": 41,
   "metadata": {
    "colab": {},
    "colab_type": "code",
    "id": "aseNav8gRTTg"
   },
   "outputs": [],
   "source": [
    "df = pd.DataFrame(\n",
    "    {'Sentence': grouped_sents,\n",
    "     'Tags': tags\n",
    "    })"
   ]
  },
  {
   "cell_type": "code",
   "execution_count": 42,
   "metadata": {
    "colab": {},
    "colab_type": "code",
    "id": "c9ejwY74mFmC"
   },
   "outputs": [],
   "source": [
    "a = df.head()"
   ]
  },
  {
   "cell_type": "code",
   "execution_count": 43,
   "metadata": {
    "colab": {
     "base_uri": "https://localhost:8080/",
     "height": 119
    },
    "colab_type": "code",
    "executionInfo": {
     "elapsed": 3391,
     "status": "ok",
     "timestamp": 1576741212151,
     "user": {
      "displayName": "Anastasia Nikiforova",
      "photoUrl": "https://lh3.googleusercontent.com/a-/AAuE7mCcIdJ2RdLMQqCjcu-jpe_GhcyKTWoKEYQZDLNibA=s64",
      "userId": "02648225287127746318"
     },
     "user_tz": -180
    },
    "id": "l3rSWlQjJvwI",
    "outputId": "3181b92e-dcf2-4d20-fcb9-a8fb23d645ce"
   },
   "outputs": [
    {
     "data": {
      "text/plain": [
       "0    <class 'list'>\n",
       "1    <class 'list'>\n",
       "2    <class 'list'>\n",
       "3    <class 'list'>\n",
       "4    <class 'list'>\n",
       "Name: Sentence, dtype: object"
      ]
     },
     "execution_count": 43,
     "metadata": {},
     "output_type": "execute_result"
    }
   ],
   "source": [
    "a.Sentence.head().apply(type)"
   ]
  },
  {
   "cell_type": "markdown",
   "metadata": {
    "colab_type": "text",
    "id": "FC9kaNw8hRCr"
   },
   "source": [
    "Пример:\n",
    "\n",
    "```['p53', 'immunohistochemistry', 'in', 'malignant', 'fibrous', 'histiocytomas', 'and', 'other', 'mesenchymal', 'tumours', '.']\n",
    "[0, 0, 0, 1, 2, 2, 0, 0, 0, 0, 0]```\n",
    "\n",
    "```['effect', 'of', 'cadmium', 'exposure', 'on', 'primary', 'tumor', 'growth', 'and', 'cell-mediated', 'cytotoxicity', 'in', 'mice', 'bearing', 'msb', 'sarcomas', '.']\n",
    "[0, 0, 1, 2, 0, 0, 1, 2, 0, 0, 0, 0, 0, 0, 0, 1, 0]```"
   ]
  },
  {
   "cell_type": "markdown",
   "metadata": {
    "colab_type": "text",
    "id": "LDzKqwxURl2U"
   },
   "source": [
    "### Train-test split"
   ]
  },
  {
   "cell_type": "code",
   "execution_count": 44,
   "metadata": {
    "colab": {},
    "colab_type": "code",
    "id": "UztyeFuIcRbT"
   },
   "outputs": [],
   "source": [
    "from sklearn.model_selection import train_test_split"
   ]
  },
  {
   "cell_type": "code",
   "execution_count": 45,
   "metadata": {
    "colab": {},
    "colab_type": "code",
    "id": "MzfCfGOKofTK"
   },
   "outputs": [],
   "source": [
    "X_train, X_test, y_train, y_test = train_test_split(df.Sentence.tolist(), df.Tags.tolist(), test_size=0.1, shuffle=True)"
   ]
  },
  {
   "cell_type": "code",
   "execution_count": 46,
   "metadata": {
    "colab": {},
    "colab_type": "code",
    "id": "-iD2b2Keq1kN"
   },
   "outputs": [],
   "source": [
    "train_data = pd.DataFrame({'X_train': X_train, 'y_train': y_train})\n",
    "test_data = pd.DataFrame({'X_test': X_test, 'y_test': y_test})"
   ]
  },
  {
   "cell_type": "code",
   "execution_count": 47,
   "metadata": {
    "colab": {
     "base_uri": "https://localhost:8080/",
     "height": 122
    },
    "colab_type": "code",
    "executionInfo": {
     "elapsed": 104612,
     "status": "ok",
     "timestamp": 1576741313393,
     "user": {
      "displayName": "Anastasia Nikiforova",
      "photoUrl": "https://lh3.googleusercontent.com/a-/AAuE7mCcIdJ2RdLMQqCjcu-jpe_GhcyKTWoKEYQZDLNibA=s64",
      "userId": "02648225287127746318"
     },
     "user_tz": -180
    },
    "id": "lhDnsmy4qczj",
    "outputId": "7d1de2d3-813b-49e3-83ec-836f58e33d15"
   },
   "outputs": [],
   "source": [
    "# from google.colab import drive\n",
    "# drive.mount('/content/gdrive')"
   ]
  },
  {
   "cell_type": "code",
   "execution_count": 48,
   "metadata": {
    "colab": {},
    "colab_type": "code",
    "id": "7FOSFeyXqrSk"
   },
   "outputs": [],
   "source": [
    "import datetime"
   ]
  },
  {
   "cell_type": "code",
   "execution_count": 49,
   "metadata": {
    "colab": {},
    "colab_type": "code",
    "id": "azWd998aqR0M"
   },
   "outputs": [],
   "source": [
    "# CODE TO SAVE MODELS TO DRIVE\n",
    "\n",
    "date = datetime.datetime.now().strftime(\"%Y-%m-%d-%H-%M\")\n",
    "train_name = f'train_data_sentence-level_{date}.csv'\n",
    "test_name = f'test_data_sentence-level_{date}.csv'\n",
    "\n",
    "train_path = f\"/sents/{train_name}\"   #f\"/content/gdrive/My Drive/bioNER datasets/sents/{train_name}\"\n",
    "test_path = f\"/sents/{test_name}\"     #f\"/content/gdrive/My Drive/bioNER datasets/sents/{test_name}\"\n",
    "\n",
    "train_data.to_csv(f\"./sents/{train_name}\")   #(f\"/content/gdrive/My Drive/bioNER datasets/sents/{train_name}\")\n",
    "test_data.to_csv(f\"./sents/{test_name}\")     #(f\"/content/gdrive/My Drive/bioNER datasets/sents/{test_name}\")"
   ]
  },
  {
   "cell_type": "code",
   "execution_count": 50,
   "metadata": {
    "colab": {
     "base_uri": "https://localhost:8080/",
     "height": 51
    },
    "colab_type": "code",
    "executionInfo": {
     "elapsed": 1389,
     "status": "ok",
     "timestamp": 1576741320920,
     "user": {
      "displayName": "Anastasia Nikiforova",
      "photoUrl": "https://lh3.googleusercontent.com/a-/AAuE7mCcIdJ2RdLMQqCjcu-jpe_GhcyKTWoKEYQZDLNibA=s64",
      "userId": "02648225287127746318"
     },
     "user_tz": -180
    },
    "id": "uBOnSU3zcm1j",
    "outputId": "ccce94fe-5e69-4b48-dea3-32864f0a8782"
   },
   "outputs": [
    {
     "name": "stdout",
     "output_type": "stream",
     "text": [
      "['basic', 'fibroblast', 'growth', 'factor', '(', '10', 'ng/ml', ')', 'with', 'low', 'concentration', 'of', 'fetal', 'bovine', 'serum', 'in', 'the', 'culture', 'medium', 'promoted', 'the', 'proliferation', 'of', 'chondrocytes', 'significantly', ',', 'and', 'this', 'effect', 'reached', 'its', 'maximum']\n",
      "[0, 0, 0, 0, 0, 0, 0, 0, 0, 0, 0, 0, 0, 0, 0, 0, 0, 0, 0, 0, 0, 0, 0, 0, 0, 0, 0, 0, 0, 0, 0, 0]\n"
     ]
    }
   ],
   "source": [
    "print(X_train[8])\n",
    "print(y_train[8])"
   ]
  },
  {
   "cell_type": "code",
   "execution_count": 51,
   "metadata": {
    "colab": {},
    "colab_type": "code",
    "id": "P8_dVIdVsYfK"
   },
   "outputs": [],
   "source": [
    "# train_data = pd.read_csv(train_path).iloc[:, -2:]\n",
    "# test_data = pd.read_csv(test_path).iloc[:, -2:]"
   ]
  },
  {
   "cell_type": "code",
   "execution_count": 52,
   "metadata": {
    "colab": {
     "base_uri": "https://localhost:8080/",
     "height": 119
    },
    "colab_type": "code",
    "executionInfo": {
     "elapsed": 989,
     "status": "ok",
     "timestamp": 1576741337708,
     "user": {
      "displayName": "Anastasia Nikiforova",
      "photoUrl": "https://lh3.googleusercontent.com/a-/AAuE7mCcIdJ2RdLMQqCjcu-jpe_GhcyKTWoKEYQZDLNibA=s64",
      "userId": "02648225287127746318"
     },
     "user_tz": -180
    },
    "id": "k8SOmw6jJ-7L",
    "outputId": "8c43818e-483e-4262-cbce-6307ab4a77f0"
   },
   "outputs": [
    {
     "data": {
      "text/plain": [
       "0    <class 'list'>\n",
       "1    <class 'list'>\n",
       "2    <class 'list'>\n",
       "3    <class 'list'>\n",
       "4    <class 'list'>\n",
       "Name: X_train, dtype: object"
      ]
     },
     "execution_count": 52,
     "metadata": {},
     "output_type": "execute_result"
    }
   ],
   "source": [
    "a = train_data.head()\n",
    "a.X_train.head().apply(type)"
   ]
  },
  {
   "cell_type": "code",
   "execution_count": 53,
   "metadata": {
    "colab": {},
    "colab_type": "code",
    "id": "ksA6FXkEscci"
   },
   "outputs": [],
   "source": [
    "train_data = train_data.dropna(subset=['X_train'])\n",
    "test_data = test_data.dropna(subset=['X_test'])"
   ]
  },
  {
   "cell_type": "code",
   "execution_count": 54,
   "metadata": {
    "colab": {
     "base_uri": "https://localhost:8080/",
     "height": 68
    },
    "colab_type": "code",
    "executionInfo": {
     "elapsed": 2116,
     "status": "ok",
     "timestamp": 1576741343499,
     "user": {
      "displayName": "Anastasia Nikiforova",
      "photoUrl": "https://lh3.googleusercontent.com/a-/AAuE7mCcIdJ2RdLMQqCjcu-jpe_GhcyKTWoKEYQZDLNibA=s64",
      "userId": "02648225287127746318"
     },
     "user_tz": -180
    },
    "id": "3POw__ROslP4",
    "outputId": "d0142677-48b0-4701-d30b-521629170822"
   },
   "outputs": [
    {
     "data": {
      "text/plain": [
       "X_test    0\n",
       "y_test    0\n",
       "dtype: int64"
      ]
     },
     "execution_count": 54,
     "metadata": {},
     "output_type": "execute_result"
    }
   ],
   "source": [
    "#train_data.isnull().sum()\n",
    "test_data.isnull().sum()"
   ]
  },
  {
   "cell_type": "code",
   "execution_count": 55,
   "metadata": {
    "colab": {},
    "colab_type": "code",
    "id": "x9AsVR16sTGx"
   },
   "outputs": [],
   "source": [
    "# X_train, X_test, y_train, y_test = train_data.X_train, test_data.X_test, train_data.y_train, test_data.y_test"
   ]
  },
  {
   "cell_type": "code",
   "execution_count": 56,
   "metadata": {
    "colab": {
     "base_uri": "https://localhost:8080/",
     "height": 34
    },
    "colab_type": "code",
    "executionInfo": {
     "elapsed": 1433,
     "status": "ok",
     "timestamp": 1576741352425,
     "user": {
      "displayName": "Anastasia Nikiforova",
      "photoUrl": "https://lh3.googleusercontent.com/a-/AAuE7mCcIdJ2RdLMQqCjcu-jpe_GhcyKTWoKEYQZDLNibA=s64",
      "userId": "02648225287127746318"
     },
     "user_tz": -180
    },
    "id": "87kKuktDfWFh",
    "outputId": "97c063a4-2d85-41fc-8efa-e5fb39355bcc"
   },
   "outputs": [
    {
     "name": "stdout",
     "output_type": "stream",
     "text": [
      "Train dataset has 198663 sentences and test dataset has 22074 sentences\n"
     ]
    }
   ],
   "source": [
    "print(f\"Train dataset has {len(X_train)} sentences and test dataset has {len(X_test)} sentences\")"
   ]
  },
  {
   "cell_type": "code",
   "execution_count": 57,
   "metadata": {
    "colab": {},
    "colab_type": "code",
    "id": "L3gazW2LLkNb"
   },
   "outputs": [],
   "source": [
    "# train.Sentence.apply(lambda x: json.loads(x)) <- to convert string to list"
   ]
  },
  {
   "cell_type": "markdown",
   "metadata": {
    "colab_type": "text",
    "id": "Q826Nn1jQypF"
   },
   "source": [
    "## Mapping data to indexes"
   ]
  },
  {
   "cell_type": "code",
   "execution_count": 58,
   "metadata": {
    "colab": {},
    "colab_type": "code",
    "id": "juPPTp__85jo"
   },
   "outputs": [],
   "source": [
    "# the START-STOP tags are from the tutorial implementation (the rest of the code is below).\n",
    "START_TAG = \"<START>\"\n",
    "STOP_TAG = \"<STOP>\"\n",
    "word_to_ix = {}\n",
    "\n",
    "for sentence in df.Sentence:\n",
    "    for word in sentence:\n",
    "        if word not in word_to_ix:\n",
    "            word_to_ix[word] = len(word_to_ix)\n",
    "\n",
    "tag_to_ix = cat_mapper\n",
    "tag_to_ix.update({START_TAG: 3, STOP_TAG: 4})"
   ]
  },
  {
   "cell_type": "code",
   "execution_count": 59,
   "metadata": {
    "colab": {
     "base_uri": "https://localhost:8080/",
     "height": 34
    },
    "colab_type": "code",
    "executionInfo": {
     "elapsed": 620,
     "status": "ok",
     "timestamp": 1576741360523,
     "user": {
      "displayName": "Anastasia Nikiforova",
      "photoUrl": "https://lh3.googleusercontent.com/a-/AAuE7mCcIdJ2RdLMQqCjcu-jpe_GhcyKTWoKEYQZDLNibA=s64",
      "userId": "02648225287127746318"
     },
     "user_tz": -180
    },
    "id": "hDkJPD2M9DPR",
    "outputId": "aa37e2a1-3dcd-4207-9121-74c5089e65a1"
   },
   "outputs": [
    {
     "data": {
      "text/plain": [
       "(158163, 5)"
      ]
     },
     "execution_count": 59,
     "metadata": {},
     "output_type": "execute_result"
    }
   ],
   "source": [
    "len(word_to_ix), len(tag_to_ix)"
   ]
  },
  {
   "cell_type": "code",
   "execution_count": 60,
   "metadata": {
    "colab": {},
    "colab_type": "code",
    "id": "IVqF7v1grTRC"
   },
   "outputs": [],
   "source": [
    "word_to_ix['PAD'] = len(word_to_ix)\n",
    "word_to_ix['UNK'] = len(word_to_ix)"
   ]
  },
  {
   "cell_type": "code",
   "execution_count": 61,
   "metadata": {
    "colab": {},
    "colab_type": "code",
    "id": "g0HZUoeJBO71"
   },
   "outputs": [],
   "source": [
    "#import ast   # for targets"
   ]
  },
  {
   "cell_type": "markdown",
   "metadata": {
    "colab_type": "text",
    "id": "QokIGqqxku8X"
   },
   "source": [
    "### Word Data - dataset compiler"
   ]
  },
  {
   "cell_type": "code",
   "execution_count": 62,
   "metadata": {
    "colab": {},
    "colab_type": "code",
    "id": "II23Sbb78vZh"
   },
   "outputs": [],
   "source": [
    "class WordData(Dataset):\n",
    "    \n",
    "    def __init__(self, x_data, y_data, word2index, sequence_length = 39, pad_token='PAD', unk_token='UNK', verbose=True):\n",
    "        \n",
    "        super().__init__()\n",
    "        \n",
    "        self.sequence_length = sequence_length\n",
    "        self.x_data = []\n",
    "        self.y_data = y_data  \n",
    "        self.word2index = word2index\n",
    "        \n",
    "        self.pad_token = pad_token\n",
    "        self.pad_index = self.word2index[self.pad_token]\n",
    "\n",
    "        self.unk_token = unk_token\n",
    "        self.unk_index = self.word2index[self.unk_token]\n",
    "\n",
    "        self.load(x_data, verbose=verbose)\n",
    "        \n",
    "    @staticmethod\n",
    "    def process_text(text):\n",
    "        #words = [word.lower() for word in text]\n",
    "\n",
    "        return text\n",
    "        \n",
    "    def load(self, data, verbose=True):\n",
    "             \n",
    "        data_iterator = tqdm(data, desc='Loading data', disable=not verbose)  \n",
    "        \n",
    "        for text in data_iterator:\n",
    "            \n",
    "            words = self.process_text(text)\n",
    "            indexed_words = self.indexing(words) \n",
    "            self.x_data.append(indexed_words)\n",
    "\n",
    "\n",
    "    def indexing(self, tokenized_text):\n",
    "\n",
    "        return [self.word2index[token] if token in self.word2index else self.unk_index for token in tokenized_text]\n",
    "\n",
    "    # def padding(self, sequence):\n",
    "        \n",
    "    #     # Ограничить длину self.sequence_length\n",
    "    #     # если длина меньше максимально - западить\n",
    "        \n",
    "    #     ### CODE ###\n",
    "\n",
    "    #     if len(sequence) > self.sequence_length:\n",
    "    #         sequence = sequence[:self.sequence_length]\n",
    "    #         return sequence\n",
    "\n",
    "    #     elif len(sequence) < self.sequence_length:\n",
    "    #         sequence = sequence + [self.pad_index]*(self.sequence_length-len(sequence))\n",
    "    #         return sequence\n",
    "\n",
    "    def __len__(self):\n",
    "        \n",
    "        return len(self.x_data)\n",
    "    \n",
    "    def __getitem__(self, idx):\n",
    "        \n",
    "        x = self.x_data[idx]\n",
    "        # x = self.padding(x)\n",
    "        # x = ast.literal_eval(x)    # we have lists in dataframe values but when we try to retrieve them, their type = str \n",
    "        x = torch.Tensor(x).long()    \n",
    "        y = self.y_data[idx]\n",
    "        # y = ast.literal_eval(y)    # this function allows us to make list-like-strings lists\n",
    "        y = torch.Tensor(y).long()\n",
    "\n",
    "        return x, y\n",
    "    "
   ]
  },
  {
   "cell_type": "code",
   "execution_count": 63,
   "metadata": {
    "colab": {
     "base_uri": "https://localhost:8080/",
     "height": 34
    },
    "colab_type": "code",
    "executionInfo": {
     "elapsed": 2238,
     "status": "ok",
     "timestamp": 1576592086299,
     "user": {
      "displayName": "Anastasia Nikiforova",
      "photoUrl": "https://lh3.googleusercontent.com/a-/AAuE7mCcIdJ2RdLMQqCjcu-jpe_GhcyKTWoKEYQZDLNibA=s64",
      "userId": "02648225287127746318"
     },
     "user_tz": -180
    },
    "id": "7dDPVZT0nKdh",
    "outputId": "5519a389-5230-471c-c28d-aa66b9236340"
   },
   "outputs": [],
   "source": [
    "# dataset = WordData(df.Sentence.tolist(), df.Tags.tolist(), word_to_ix)"
   ]
  },
  {
   "cell_type": "code",
   "execution_count": 64,
   "metadata": {
    "colab": {},
    "colab_type": "code",
    "id": "cHk9qhuRwipv"
   },
   "outputs": [],
   "source": [
    "for instance in list(tqdm._instances):\n",
    "    tqdm._decr_instances(instance)"
   ]
  },
  {
   "cell_type": "code",
   "execution_count": 65,
   "metadata": {
    "colab": {
     "base_uri": "https://localhost:8080/",
     "height": 51
    },
    "colab_type": "code",
    "executionInfo": {
     "elapsed": 3114,
     "status": "ok",
     "timestamp": 1576741374321,
     "user": {
      "displayName": "Anastasia Nikiforova",
      "photoUrl": "https://lh3.googleusercontent.com/a-/AAuE7mCcIdJ2RdLMQqCjcu-jpe_GhcyKTWoKEYQZDLNibA=s64",
      "userId": "02648225287127746318"
     },
     "user_tz": -180
    },
    "id": "MJ22dpvnwlAi",
    "outputId": "bae7c7f1-a049-4a36-923b-d5a7724bef1a"
   },
   "outputs": [
    {
     "name": "stderr",
     "output_type": "stream",
     "text": [
      "Loading data: 100%|██████████| 198663/198663 [00:03<00:00, 60316.13it/s]\n",
      "Loading data: 100%|██████████| 22074/22074 [00:00<00:00, 78214.68it/s]\n"
     ]
    }
   ],
   "source": [
    "train_dataset = WordData(X_train, y_train, word_to_ix)\n",
    "test_dataset = WordData(X_test, y_test, word_to_ix)\n",
    "\n",
    "# train_loader = DataLoader(train_dataset, batch_size=254)\n",
    "# test_loader = DataLoader(test_dataset, batch_size=254)"
   ]
  },
  {
   "cell_type": "code",
   "execution_count": 66,
   "metadata": {
    "colab": {},
    "colab_type": "code",
    "id": "4IrtGHIcwp2p"
   },
   "outputs": [],
   "source": [
    "# tiny_batch for testing\n",
    "\n",
    "tiny_batch = int(0.99 * len(test_dataset))\n",
    "the_rest = len(test_dataset) - tiny_batch\n",
    "tiny_train, tiny_test = torch.utils.data.random_split(test_dataset, [tiny_batch, the_rest])\n",
    "\n",
    "# train_loader = DataLoader(tiny_train, batch_size=64)\n",
    "# test_loader = DataLoader(tiny_test, batch_size=64)"
   ]
  },
  {
   "cell_type": "code",
   "execution_count": 67,
   "metadata": {
    "colab": {},
    "colab_type": "code",
    "id": "k3OhkA6SkJeE"
   },
   "outputs": [],
   "source": [
    "for x, y in train_dataset:\n",
    "    break"
   ]
  },
  {
   "cell_type": "code",
   "execution_count": 68,
   "metadata": {
    "colab": {
     "base_uri": "https://localhost:8080/",
     "height": 68
    },
    "colab_type": "code",
    "executionInfo": {
     "elapsed": 622,
     "status": "ok",
     "timestamp": 1576741388086,
     "user": {
      "displayName": "Anastasia Nikiforova",
      "photoUrl": "https://lh3.googleusercontent.com/a-/AAuE7mCcIdJ2RdLMQqCjcu-jpe_GhcyKTWoKEYQZDLNibA=s64",
      "userId": "02648225287127746318"
     },
     "user_tz": -180
    },
    "id": "2soCaJ4Ckgho",
    "outputId": "1c49eb0d-b954-42df-92f7-54b5ffaa2345"
   },
   "outputs": [
    {
     "data": {
      "text/plain": [
       "tensor([   16,  3331,     3, 10605,   551,    90,  3372,     1, 24779, 83346,\n",
       "            1, 25061,    12])"
      ]
     },
     "execution_count": 68,
     "metadata": {},
     "output_type": "execute_result"
    }
   ],
   "source": [
    "x"
   ]
  },
  {
   "cell_type": "code",
   "execution_count": 69,
   "metadata": {
    "colab": {
     "base_uri": "https://localhost:8080/",
     "height": 51
    },
    "colab_type": "code",
    "executionInfo": {
     "elapsed": 532,
     "status": "ok",
     "timestamp": 1576741389874,
     "user": {
      "displayName": "Anastasia Nikiforova",
      "photoUrl": "https://lh3.googleusercontent.com/a-/AAuE7mCcIdJ2RdLMQqCjcu-jpe_GhcyKTWoKEYQZDLNibA=s64",
      "userId": "02648225287127746318"
     },
     "user_tz": -180
    },
    "id": "b2VodNEe6zsX",
    "outputId": "dfe9bd30-8db0-4e0d-f311-0d39ebc5f927"
   },
   "outputs": [
    {
     "data": {
      "text/plain": [
       "tensor([0, 0, 0, 0, 0, 0, 0, 0, 0, 0, 0, 0, 0])"
      ]
     },
     "execution_count": 69,
     "metadata": {},
     "output_type": "execute_result"
    }
   ],
   "source": [
    "y"
   ]
  },
  {
   "cell_type": "markdown",
   "metadata": {
    "colab_type": "text",
    "id": "Ity_jbPfJ54F"
   },
   "source": [
    "## biLSTM + CRF Tutorial Implementation\n",
    "\n",
    "https://pytorch.org/tutorials/beginner/nlp/advanced_tutorial.html"
   ]
  },
  {
   "cell_type": "code",
   "execution_count": 70,
   "metadata": {
    "colab": {
     "base_uri": "https://localhost:8080/",
     "height": 34
    },
    "colab_type": "code",
    "executionInfo": {
     "elapsed": 1013,
     "status": "ok",
     "timestamp": 1576741394671,
     "user": {
      "displayName": "Anastasia Nikiforova",
      "photoUrl": "https://lh3.googleusercontent.com/a-/AAuE7mCcIdJ2RdLMQqCjcu-jpe_GhcyKTWoKEYQZDLNibA=s64",
      "userId": "02648225287127746318"
     },
     "user_tz": -180
    },
    "id": "72KlCYZoKDwZ",
    "outputId": "efdf4c2d-9c6c-4acc-a07e-5485082821ed"
   },
   "outputs": [
    {
     "data": {
      "text/plain": [
       "<torch._C.Generator at 0x7f539b31a130>"
      ]
     },
     "execution_count": 70,
     "metadata": {},
     "output_type": "execute_result"
    }
   ],
   "source": [
    "import torch\n",
    "import torch.autograd as autograd\n",
    "import torch.nn as nn\n",
    "import torch.optim as optim\n",
    "\n",
    "torch.manual_seed(1)"
   ]
  },
  {
   "cell_type": "code",
   "execution_count": 71,
   "metadata": {
    "colab": {},
    "colab_type": "code",
    "id": "J_s8uOioKbit"
   },
   "outputs": [],
   "source": [
    "def argmax(vec):\n",
    "    # return the argmax as a python int\n",
    "    _, idx = torch.max(vec, 1)\n",
    "    return idx.item()\n",
    "\n",
    "\n",
    "def prepare_sequence(seq, to_ix):\n",
    "    idxs = [to_ix[w] for w in seq]\n",
    "    return torch.tensor(idxs, dtype=torch.long)\n",
    "\n",
    "\n",
    "# Compute log sum exp in a numerically stable way for the forward algorithm\n",
    "def log_sum_exp(vec):\n",
    "    max_score = vec[0, argmax(vec)]\n",
    "    max_score_broadcast = max_score.view(1, -1).expand(1, vec.size()[1])\n",
    "    return max_score + \\\n",
    "        torch.log(torch.sum(torch.exp(vec - max_score_broadcast)))"
   ]
  },
  {
   "cell_type": "code",
   "execution_count": 72,
   "metadata": {
    "colab": {},
    "colab_type": "code",
    "id": "vtM53UlrKi57"
   },
   "outputs": [],
   "source": [
    "class BiLSTM_CRF(nn.Module):\n",
    "\n",
    "    def __init__(self, vocab_size, tag_to_ix, embedding_dim, hidden_dim):\n",
    "        super(BiLSTM_CRF, self).__init__()\n",
    "        \n",
    "        self.device = torch.device('cuda' if torch.cuda.is_available() else 'cpu')\n",
    "        \n",
    "        self.embedding_dim = embedding_dim\n",
    "        self.hidden_dim = hidden_dim\n",
    "        self.vocab_size = vocab_size\n",
    "        self.tag_to_ix = tag_to_ix\n",
    "        self.tagset_size = len(tag_to_ix)\n",
    "\n",
    "        self.word_embeds = nn.Embedding(vocab_size, embedding_dim)\n",
    "        self.lstm = nn.LSTM(embedding_dim, hidden_dim // 2,\n",
    "                            num_layers=1, bidirectional=True)\n",
    "\n",
    "        # Maps the output of the LSTM into tag space.\n",
    "        self.hidden2tag = nn.Linear(hidden_dim, self.tagset_size)\n",
    "\n",
    "        # Matrix of transition parameters.  Entry i,j is the score of\n",
    "        # transitioning *to* i *from* j.\n",
    "        self.transitions = nn.Parameter(\n",
    "            torch.randn(self.tagset_size, self.tagset_size))\n",
    "\n",
    "        # These two statements enforce the constraint that we never transfer\n",
    "        # to the start tag and we never transfer from the stop tag\n",
    "        self.transitions.data[tag_to_ix[START_TAG], :] = -10000\n",
    "        self.transitions.data[:, tag_to_ix[STOP_TAG]] = -10000\n",
    "\n",
    "        self.hidden = self.init_hidden()\n",
    "\n",
    "    def init_hidden(self):\n",
    "        return (torch.randn(2, 1, self.hidden_dim // 2).to(self.device),\n",
    "                torch.randn(2, 1, self.hidden_dim // 2).to(self.device))\n",
    "\n",
    "    def _forward_alg(self, feats):\n",
    "        # Do the forward algorithm to compute the partition function\n",
    "        init_alphas = torch.full((1, self.tagset_size), -10000.).to(self.device)\n",
    "        # START_TAG has all of the score.\n",
    "        init_alphas[0][self.tag_to_ix[START_TAG]] = 0.\n",
    "\n",
    "        # Wrap in a variable so that we will get automatic backprop\n",
    "        forward_var = init_alphas\n",
    "\n",
    "        # Iterate through the sentence\n",
    "        for feat in feats:\n",
    "            alphas_t = []  # The forward tensors at this timestep\n",
    "            for next_tag in range(self.tagset_size):\n",
    "                # broadcast the emission score: it is the same regardless of\n",
    "                # the previous tag\n",
    "                emit_score = feat[next_tag].view(1, -1).expand(1, self.tagset_size)\n",
    "                # the ith entry of trans_score is the score of transitioning to\n",
    "                # next_tag from i\n",
    "                trans_score = self.transitions[next_tag].view(1, -1)\n",
    "                # The ith entry of next_tag_var is the value for the\n",
    "                # edge (i -> next_tag) before we do log-sum-exp\n",
    "                next_tag_var = forward_var + trans_score + emit_score\n",
    "                # The forward variable for this tag is log-sum-exp of all the\n",
    "                # scores.\n",
    "                alphas_t.append(log_sum_exp(next_tag_var).view(1))\n",
    "            forward_var = torch.cat(alphas_t).view(1, -1)\n",
    "        terminal_var = forward_var + self.transitions[self.tag_to_ix[STOP_TAG]]\n",
    "        alpha = log_sum_exp(terminal_var)\n",
    "        return alpha\n",
    "\n",
    "    def _get_lstm_features(self, sentence):\n",
    "        self.hidden = self.init_hidden()\n",
    "        embeds = self.word_embeds(sentence).view(len(sentence), 1, -1)   # sentence.size(0)\n",
    "        lstm_out, self.hidden = self.lstm(embeds, self.hidden)\n",
    "        lstm_out = lstm_out.view(len(sentence), self.hidden_dim)\n",
    "        lstm_feats = self.hidden2tag(lstm_out)\n",
    "        return lstm_feats\n",
    "\n",
    "    def _score_sentence(self, feats, tags):\n",
    "        # Gives the score of a provided tag sequence\n",
    "        score = torch.zeros(1).to(device)\n",
    "        tags = torch.cat([torch.tensor([self.tag_to_ix[START_TAG]], dtype=torch.long, device=self.device), tags])\n",
    "        for i, feat in enumerate(feats):\n",
    "            score = score + \\\n",
    "                self.transitions[tags[i + 1], tags[i]] + feat[tags[i + 1]]\n",
    "        score = score + self.transitions[self.tag_to_ix[STOP_TAG], tags[-1]]\n",
    "        return score\n",
    "\n",
    "    def _viterbi_decode(self, feats):\n",
    "        backpointers = []\n",
    "\n",
    "        # Initialize the viterbi variables in log space\n",
    "        init_vvars = torch.full((1, self.tagset_size), -10000.).to(self.device)\n",
    "        init_vvars[0][self.tag_to_ix[START_TAG]] = 0\n",
    "\n",
    "        # forward_var at step i holds the viterbi variables for step i-1\n",
    "        forward_var = init_vvars\n",
    "        for feat in feats:\n",
    "            bptrs_t = []  # holds the backpointers for this step\n",
    "            viterbivars_t = []  # holds the viterbi variables for this step\n",
    "\n",
    "            for next_tag in range(self.tagset_size):\n",
    "                # next_tag_var[i] holds the viterbi variable for tag i at the\n",
    "                # previous step, plus the score of transitioning\n",
    "                # from tag i to next_tag.\n",
    "                # We don't include the emission scores here because the max\n",
    "                # does not depend on them (we add them in below)\n",
    "                next_tag_var = forward_var + self.transitions[next_tag]\n",
    "                best_tag_id = argmax(next_tag_var)\n",
    "                bptrs_t.append(best_tag_id)\n",
    "                viterbivars_t.append(next_tag_var[0][best_tag_id].view(1))\n",
    "            # Now add in the emission scores, and assign forward_var to the set\n",
    "            # of viterbi variables we just computed\n",
    "            forward_var = (torch.cat(viterbivars_t) + feat).view(1, -1)\n",
    "            backpointers.append(bptrs_t)\n",
    "\n",
    "        # Transition to STOP_TAG\n",
    "        terminal_var = forward_var + self.transitions[self.tag_to_ix[STOP_TAG]]\n",
    "        best_tag_id = argmax(terminal_var)\n",
    "        path_score = terminal_var[0][best_tag_id]\n",
    "\n",
    "        # Follow the back pointers to decode the best path.\n",
    "        best_path = [best_tag_id]\n",
    "        for bptrs_t in reversed(backpointers):\n",
    "            best_tag_id = bptrs_t[best_tag_id]\n",
    "            best_path.append(best_tag_id)\n",
    "        # Pop off the start tag (we dont want to return that to the caller)\n",
    "        start = best_path.pop()\n",
    "        assert start == self.tag_to_ix[START_TAG]  # Sanity check\n",
    "        best_path.reverse()\n",
    "        return path_score, best_path\n",
    "\n",
    "    def neg_log_likelihood(self, sentence, tags):\n",
    "        feats = self._get_lstm_features(sentence)\n",
    "        forward_score = self._forward_alg(feats)\n",
    "        gold_score = self._score_sentence(feats, tags)\n",
    "        return forward_score - gold_score\n",
    "\n",
    "    def forward(self, sentence):  # dont confuse this with _forward_alg above.\n",
    "        # Get the emission scores from the BiLSTM\n",
    "        lstm_feats = self._get_lstm_features(sentence)\n",
    "\n",
    "        # Find the best path, given the features.\n",
    "        score, tag_seq = self._viterbi_decode(lstm_feats)\n",
    "        return score, tag_seq"
   ]
  },
  {
   "cell_type": "code",
   "execution_count": 73,
   "metadata": {
    "colab": {},
    "colab_type": "code",
    "id": "Lh_3tuvYLI5T"
   },
   "outputs": [],
   "source": [
    "EMBEDDING_DIM = 128\n",
    "HIDDEN_DIM = 64"
   ]
  },
  {
   "cell_type": "code",
   "execution_count": 74,
   "metadata": {
    "colab": {
     "base_uri": "https://localhost:8080/",
     "height": 34
    },
    "colab_type": "code",
    "executionInfo": {
     "elapsed": 1088,
     "status": "ok",
     "timestamp": 1576741403636,
     "user": {
      "displayName": "Anastasia Nikiforova",
      "photoUrl": "https://lh3.googleusercontent.com/a-/AAuE7mCcIdJ2RdLMQqCjcu-jpe_GhcyKTWoKEYQZDLNibA=s64",
      "userId": "02648225287127746318"
     },
     "user_tz": -180
    },
    "id": "9-z9VpErUGPa",
    "outputId": "9afadd08-b56f-4827-bf38-e5cbbaf6fa98"
   },
   "outputs": [
    {
     "data": {
      "text/plain": [
       "device(type='cuda')"
      ]
     },
     "execution_count": 74,
     "metadata": {},
     "output_type": "execute_result"
    }
   ],
   "source": [
    "device = torch.device('cuda' if torch.cuda.is_available() else 'cpu')\n",
    "device"
   ]
  },
  {
   "cell_type": "code",
   "execution_count": 86,
   "metadata": {
    "colab": {
     "base_uri": "https://localhost:8080/",
     "height": 34
    },
    "colab_type": "code",
    "executionInfo": {
     "elapsed": 7078,
     "status": "ok",
     "timestamp": 1576741410603,
     "user": {
      "displayName": "Anastasia Nikiforova",
      "photoUrl": "https://lh3.googleusercontent.com/a-/AAuE7mCcIdJ2RdLMQqCjcu-jpe_GhcyKTWoKEYQZDLNibA=s64",
      "userId": "02648225287127746318"
     },
     "user_tz": -180
    },
    "id": "16KOmGMELRLn",
    "outputId": "055798a0-6216-4d23-dfb8-219e90d04191"
   },
   "outputs": [
    {
     "name": "stdout",
     "output_type": "stream",
     "text": [
      "(tensor(6.0565, device='cuda:0'), [0, 1, 0, 1, 0, 1, 0])\n"
     ]
    }
   ],
   "source": [
    "model = BiLSTM_CRF(len(word_to_ix), tag_to_ix, EMBEDDING_DIM, HIDDEN_DIM).to(device)\n",
    "#optimizer = optim.SGD(model.parameters(), lr=0.01, weight_decay=1e-4)\n",
    "optimizer = torch.optim.Adam(params=model.parameters(), lr=0.001)\n",
    "\n",
    "# Check predictions before training\n",
    "with torch.no_grad():\n",
    "    precheck_sent = prepare_sequence(train.Word[0], word_to_ix) #.to(device)\n",
    "    print(model(precheck_sent.to(device)))"
   ]
  },
  {
   "cell_type": "code",
   "execution_count": 76,
   "metadata": {
    "colab": {},
    "colab_type": "code",
    "id": "y-LY3Ez-NFRA"
   },
   "outputs": [],
   "source": [
    "# model = BiLSTM_CRF(len(word_to_ix), tag_to_ix, EMBEDDING_DIM, HIDDEN_DIM).to(device)\n",
    "# #optimizer = optim.SGD(model.parameters(), lr=0.01, weight_decay=1e-4)\n",
    "# optimizer = torch.optim.Adam(params=model.parameters(), lr=0.001)"
   ]
  },
  {
   "cell_type": "code",
   "execution_count": 87,
   "metadata": {
    "colab": {
     "base_uri": "https://localhost:8080/",
     "height": 34
    },
    "colab_type": "code",
    "executionInfo": {
     "elapsed": 1428,
     "status": "ok",
     "timestamp": 1576743341385,
     "user": {
      "displayName": "Anastasia Nikiforova",
      "photoUrl": "https://lh3.googleusercontent.com/a-/AAuE7mCcIdJ2RdLMQqCjcu-jpe_GhcyKTWoKEYQZDLNibA=s64",
      "userId": "02648225287127746318"
     },
     "user_tz": -180
    },
    "id": "nrBBxGLkZlV8",
    "outputId": "61657550-614d-41bd-b7fd-d80b0f71daab"
   },
   "outputs": [],
   "source": [
    "for instance in list(tqdm._instances):\n",
    "    tqdm._decr_instances(instance)"
   ]
  },
  {
   "cell_type": "code",
   "execution_count": 78,
   "metadata": {
    "colab": {},
    "colab_type": "code",
    "id": "6p-R4lBNGPpv"
   },
   "outputs": [],
   "source": [
    "from sklearn.metrics import accuracy_score, precision_score, recall_score, f1_score, confusion_matrix\n",
    "import numpy as np"
   ]
  },
  {
   "cell_type": "code",
   "execution_count": 79,
   "metadata": {
    "colab": {
     "base_uri": "https://localhost:8080/",
     "height": 34
    },
    "colab_type": "code",
    "executionInfo": {
     "elapsed": 2359,
     "status": "ok",
     "timestamp": 1576741410609,
     "user": {
      "displayName": "Anastasia Nikiforova",
      "photoUrl": "https://lh3.googleusercontent.com/a-/AAuE7mCcIdJ2RdLMQqCjcu-jpe_GhcyKTWoKEYQZDLNibA=s64",
      "userId": "02648225287127746318"
     },
     "user_tz": -180
    },
    "id": "pG5TjxNExVJR",
    "outputId": "e9f5e4f0-6d88-43b5-dfc8-8aa9c7d70330"
   },
   "outputs": [],
   "source": [
    "# Save the model to drive\n",
    "# mount notebook to google drive, save the results\n",
    "\n",
    "# from google.colab import drive\n",
    "# drive.mount('/content/gdrive')"
   ]
  },
  {
   "cell_type": "code",
   "execution_count": 88,
   "metadata": {
    "colab": {
     "base_uri": "https://localhost:8080/",
     "height": 34
    },
    "colab_type": "code",
    "executionInfo": {
     "elapsed": 16353,
     "status": "error",
     "timestamp": 1576592205299,
     "user": {
      "displayName": "Anastasia Nikiforova",
      "photoUrl": "https://lh3.googleusercontent.com/a-/AAuE7mCcIdJ2RdLMQqCjcu-jpe_GhcyKTWoKEYQZDLNibA=s64",
      "userId": "02648225287127746318"
     },
     "user_tz": -180
    },
    "id": "PxjAMBvfKqO8",
    "outputId": "debd9ba9-4ff4-4eaa-a6f3-afe1ca985da8"
   },
   "outputs": [
    {
     "name": "stderr",
     "output_type": "stream",
     "text": [
      "Epoch 1: 4090557it [4:04:38, 260.32it/s, train_loss=0.418]                               \n"
     ]
    },
    {
     "name": "stdout",
     "output_type": "stream",
     "text": [
      "Losses: train = 0.553, test = 0.429\n"
     ]
    },
    {
     "name": "stderr",
     "output_type": "stream",
     "text": [
      "Epoch 2:   0%|          | 33/4089332 [00:00<4:25:44, 256.48it/s, train_loss=0.414] "
     ]
    },
    {
     "name": "stdout",
     "output_type": "stream",
     "text": [
      "Test: accuracy = 0.990\n",
      "Test: precision = 0.873\n",
      "Test: recall = 0.748\n",
      "Test: f1_score = 0.802\n"
     ]
    },
    {
     "name": "stderr",
     "output_type": "stream",
     "text": [
      "Epoch 2: 4090557it [4:05:07, 264.33it/s, train_loss=0.35]                                \n"
     ]
    },
    {
     "name": "stdout",
     "output_type": "stream",
     "text": [
      "Losses: train = 0.374, test = 0.394\n"
     ]
    },
    {
     "name": "stderr",
     "output_type": "stream",
     "text": [
      "Epoch 3:   0%|          | 33/4089332 [00:00<4:06:13, 276.81it/s, train_loss=0.348] "
     ]
    },
    {
     "name": "stdout",
     "output_type": "stream",
     "text": [
      "Test: accuracy = 0.991\n",
      "Test: precision = 0.872\n",
      "Test: recall = 0.788\n",
      "Test: f1_score = 0.826\n"
     ]
    },
    {
     "name": "stderr",
     "output_type": "stream",
     "text": [
      "Epoch 3: 4090557it [4:04:47, 265.05it/s, train_loss=0.318]                               \n"
     ]
    },
    {
     "name": "stdout",
     "output_type": "stream",
     "text": [
      "Losses: train = 0.328, test = 0.377\n"
     ]
    },
    {
     "name": "stderr",
     "output_type": "stream",
     "text": [
      "Epoch 4:   0%|          | 33/4089332 [00:00<4:34:36, 248.19it/s, train_loss=0.315]"
     ]
    },
    {
     "name": "stdout",
     "output_type": "stream",
     "text": [
      "Test: accuracy = 0.991\n",
      "Test: precision = 0.884\n",
      "Test: recall = 0.793\n",
      "Test: f1_score = 0.834\n"
     ]
    },
    {
     "name": "stderr",
     "output_type": "stream",
     "text": [
      "Epoch 4: 4090557it [4:04:42, 287.58it/s, train_loss=0.313]                               \n"
     ]
    },
    {
     "name": "stdout",
     "output_type": "stream",
     "text": [
      "Losses: train = 0.300, test = 0.373\n"
     ]
    },
    {
     "name": "stderr",
     "output_type": "stream",
     "text": [
      "Epoch 5:   0%|          | 33/4089332 [00:00<3:50:46, 295.34it/s, train_loss=0.308]"
     ]
    },
    {
     "name": "stdout",
     "output_type": "stream",
     "text": [
      "Test: accuracy = 0.991\n",
      "Test: precision = 0.862\n",
      "Test: recall = 0.813\n",
      "Test: f1_score = 0.836\n"
     ]
    },
    {
     "name": "stderr",
     "output_type": "stream",
     "text": [
      "Epoch 5: 4090557it [4:04:53, 276.68it/s, train_loss=0.273]                               \n"
     ]
    },
    {
     "name": "stdout",
     "output_type": "stream",
     "text": [
      "Losses: train = 0.282, test = 0.368\n"
     ]
    },
    {
     "name": "stderr",
     "output_type": "stream",
     "text": [
      "Epoch 6:   0%|          | 33/4089332 [00:00<4:09:06, 273.59it/s, train_loss=0.271] "
     ]
    },
    {
     "name": "stdout",
     "output_type": "stream",
     "text": [
      "Test: accuracy = 0.991\n",
      "Test: precision = 0.868\n",
      "Test: recall = 0.817\n",
      "Test: f1_score = 0.841\n"
     ]
    },
    {
     "name": "stderr",
     "output_type": "stream",
     "text": [
      "Epoch 6: 4090557it [4:04:48, 286.14it/s, train_loss=0.273]                               \n"
     ]
    },
    {
     "name": "stdout",
     "output_type": "stream",
     "text": [
      "Losses: train = 0.269, test = 0.370\n",
      "Test: accuracy = 0.991\n",
      "Test: precision = 0.869\n",
      "Test: recall = 0.816\n",
      "Test: f1_score = 0.841\n",
      "Early stopping\n",
      "(tensor(-17.8610, device='cuda:0'), [0, 0, 0, 0, 0, 0, 0])\n"
     ]
    }
   ],
   "source": [
    "epochs = 8\n",
    "losses = []\n",
    "# нужно для early stopping, то есть трекать лучший лосс на валидации\n",
    "best_test_loss = 10.\n",
    "accuracies = []\n",
    "precisions = []\n",
    "recalls = []\n",
    "f1s = []\n",
    "\n",
    "model_save_name = 'bio_lstm+crf_200d_sentence_model_2019-12-19.pt'\n",
    "path = f\"./models/{model_save_name}\" \n",
    "\n",
    "# Make sure prepare_sequence from earlier in the LSTM section is loaded\n",
    "for epoch in range(epochs):  # again, normally you would NOT do 300 epochs, it is toy data\n",
    "    train_losses = []\n",
    "    test_losses = []\n",
    "    test_preds = []\n",
    "    test_targets = []\n",
    "\n",
    "    progress_bar = tqdm(total=int(len(train.Word)*0.9), desc='Epoch {}'.format(epoch + 1))\n",
    "\n",
    "    for x, y in train_dataset:\n",
    "        # Step 1. Remember that Pytorch accumulates gradients.\n",
    "        # We need to clear them out before each instance\n",
    "        x = x.to(device)\n",
    "        y = y.to(device)\n",
    "\n",
    "        optimizer.zero_grad()\n",
    "        # Step 2. Get our inputs ready for the network, that is,\n",
    "        # turn them into Tensors of word indices.\n",
    "\n",
    "        # Step 3. Run our forward pass.\n",
    "        loss = model.neg_log_likelihood(x, y)\n",
    "\n",
    "        # Step 4. Compute the loss, gradients, and update the parameters by\n",
    "        # calling optimizer.step()\n",
    "        loss.backward()\n",
    "        optimizer.step()\n",
    "\n",
    "        losses.append(loss.item())\n",
    "        train_losses.append(loss.item())\n",
    "        \n",
    "        progress_bar.set_postfix(train_loss = np.mean(losses[-500:]))\n",
    "\n",
    "        progress_bar.update(x.shape[0])\n",
    "        \n",
    "    progress_bar.close()\n",
    "    torch.save(model.state_dict(), path)\n",
    "\n",
    "    for x, y in test_dataset:\n",
    "        \n",
    "        x = x.to(device)\n",
    "        y = y.to(device)\n",
    "\n",
    "        with torch.no_grad():           \n",
    "            pred = model(x)[1]\n",
    "\n",
    "        # pred.shape => (128, 5) => (batch_size, targets). Need to choose the *index* (!) with the largest value.\n",
    "        #pred_values, pred_indices = pred.max(1)   # already counted in the viterbi algorithm (?)\n",
    "\n",
    "        pred_cpu = pred #.cpu()\n",
    "        y_cpu = y.cpu()\n",
    "\n",
    "        test_preds.append(pred)  #.numpy())\n",
    "        test_targets.append(y_cpu.numpy())\n",
    "\n",
    "        loss = model.neg_log_likelihood(x, y)\n",
    "\n",
    "        test_losses.append(loss.item())\n",
    "        \n",
    "    mean_test_loss = np.mean(test_losses)\n",
    "        \n",
    "    print('Losses: train = {:.3f}, test = {:.3f}'.format(np.mean(train_losses), mean_test_loss))\n",
    "    \n",
    "    test_preds = np.concatenate(test_preds)\n",
    "    test_preds = test_preds.squeeze()\n",
    "    test_targets = np.concatenate(test_targets).squeeze()\n",
    "    \n",
    "    accuracy = accuracy_score(test_targets, test_preds)\n",
    "    precision = precision_score(test_targets, test_preds, average='macro')\n",
    "    recall = recall_score(test_targets, test_preds, average='macro')\n",
    "    f1 = f1_score(test_targets, test_preds, average='macro')\n",
    "\n",
    "    accuracies.append(accuracy)\n",
    "    precisions.append(precision)\n",
    "    recalls.append(recall)\n",
    "    f1s.append(f1)\n",
    "\n",
    "    print('Test: accuracy = {:.3f}'.format(accuracy))\n",
    "    print('Test: precision = {:.3f}'.format(precision))\n",
    "    print('Test: recall = {:.3f}'.format(recall))\n",
    "    print('Test: f1_score = {:.3f}'.format(f1))\n",
    "        \n",
    "    # early stopping\n",
    "\n",
    "    if mean_test_loss < best_test_loss:\n",
    "        best_test_loss = mean_test_loss\n",
    "    else:\n",
    "        print('Early stopping')\n",
    "        break   \n",
    "\n",
    "# Check predictions after training\n",
    "with torch.no_grad():\n",
    "    precheck_sent = prepare_sequence(train.Word[0], word_to_ix)\n",
    "    print(model(precheck_sent.to(device)))\n",
    "# We got it!\n",
    "\n",
    "# model_save_name = 'bio_lstm+crf_200d_sentence_model.pt'\n",
    "# path = f\"/content/gdrive/My Drive/{model_save_name}\" \n",
    "# torch.save(model.state_dict(), path)"
   ]
  },
  {
   "cell_type": "markdown",
   "metadata": {},
   "source": [
    "### Some Graph Statistics"
   ]
  },
  {
   "cell_type": "code",
   "execution_count": 89,
   "metadata": {
    "colab": {},
    "colab_type": "code",
    "id": "ksb2ukkyFgKW"
   },
   "outputs": [
    {
     "data": {
      "text/plain": [
       "[<matplotlib.lines.Line2D at 0x7f5355877898>]"
      ]
     },
     "execution_count": 89,
     "metadata": {},
     "output_type": "execute_result"
    },
    {
     "data": {
      "image/png": "[encoded data removed]",
      "text/plain": [
       "<Figure size 504x432 with 1 Axes>"
      ]
     },
     "metadata": {
      "needs_background": "light"
     },
     "output_type": "display_data"
    }
   ],
   "source": [
    "plt.figure(figsize=(7, 6))\n",
    "plt.title('LSTM + CNN Training Process')\n",
    "plt.xlabel('Itearations')\n",
    "plt.ylabel('Loss')\n",
    "plt.grid()\n",
    "plt.plot(losses)"
   ]
  },
  {
   "cell_type": "code",
   "execution_count": 90,
   "metadata": {},
   "outputs": [],
   "source": [
    "cm = confusion_matrix(test_preds, test_targets)"
   ]
  },
  {
   "cell_type": "code",
   "execution_count": 91,
   "metadata": {},
   "outputs": [],
   "source": [
    "categories = ['O', 'B-indications', 'I-indications'] # {'O': 0, 'B-indications': 1, 'I-indications': 2}"
   ]
  },
  {
   "cell_type": "code",
   "execution_count": 93,
   "metadata": {},
   "outputs": [],
   "source": [
    "import seaborn as sn"
   ]
  },
  {
   "cell_type": "code",
   "execution_count": 94,
   "metadata": {},
   "outputs": [
    {
     "data": {
      "image/png": "[encoded data removed]",
      "text/plain": [
       "<Figure size 720x504 with 2 Axes>"
      ]
     },
     "metadata": {
      "needs_background": "light"
     },
     "output_type": "display_data"
    }
   ],
   "source": [
    "df_cm = pd.DataFrame(cm, categories, categories)\n",
    "plt.figure(figsize = (10,7))\n",
    "plt.title(\"Confusion matrix absolute counts\")\n",
    "sn.set(font_scale=1.4)   # for label size\n",
    "sn.heatmap(df_cm, annot=True, annot_kws={\"size\": 10})  # font size\n",
    "\n",
    "plt.show()"
   ]
  },
  {
   "cell_type": "code",
   "execution_count": 95,
   "metadata": {},
   "outputs": [],
   "source": [
    "cm_normalized = cm / cm.astype(np.float).sum(axis=1)"
   ]
  },
  {
   "cell_type": "code",
   "execution_count": 96,
   "metadata": {},
   "outputs": [
    {
     "data": {
      "image/png": "[encoded data removed]",
      "text/plain": [
       "<Figure size 720x504 with 2 Axes>"
      ]
     },
     "metadata": {},
     "output_type": "display_data"
    }
   ],
   "source": [
    "df_cm = pd.DataFrame(cm_normalized, categories, categories)\n",
    "plt.figure(figsize = (10,7))\n",
    "plt.title(\"Confusion matrix normalized\")\n",
    "sn.set(font_scale=1.4)   # for label size\n",
    "sn.heatmap(df_cm, annot=True, annot_kws={\"size\": 14})  # font size\n",
    "\n",
    "plt.show()"
   ]
  },
  {
   "cell_type": "code",
   "execution_count": 97,
   "metadata": {},
   "outputs": [
    {
     "data": {
      "image/png": "[encoded data removed]",
      "text/plain": [
       "<Figure size 576x504 with 1 Axes>"
      ]
     },
     "metadata": {},
     "output_type": "display_data"
    }
   ],
   "source": [
    "plt.figure(figsize=(8, 7))\n",
    "plt.title('biLSTM + CRF on validation data')\n",
    "plt.xlabel('Epochs')\n",
    "plt.ylabel('Metrics')\n",
    "plt.grid()\n",
    "\n",
    "plt.plot(accuracies)\n",
    "plt.plot(precisions)\n",
    "plt.plot(recalls)\n",
    "plt.plot(f1s)\n",
    "\n",
    "plt.legend(['accuracy', 'precision', 'recalls', 'f1_score'], loc='upper left')\n",
    "\n",
    "plt.show()"
   ]
  }
 ],
 "metadata": {
  "accelerator": "GPU",
  "colab": {
   "machine_shape": "hm",
   "name": "ONLY LSTM+CRF bioNER baseline.ipynb",
   "provenance": [],
   "toc_visible": true
  },
  "kernelspec": {
   "display_name": "Python 3",
   "language": "python",
   "name": "python3"
  },
  "language_info": {
   "codemirror_mode": {
    "name": "ipython",
    "version": 3
   },
   "file_extension": ".py",
   "mimetype": "text/x-python",
   "name": "python",
   "nbconvert_exporter": "python",
   "pygments_lexer": "ipython3",
   "version": "3.6.9"
  }
 },
 "nbformat": 4,
 "nbformat_minor": 1
}
